{
  "cells": [
    {
      "cell_type": "markdown",
      "source": [
        "# **Python Code Practice** (Basic 140+)\n",
        "\n",
        "42 code solutions, with additional concepts and notes"
      ],
      "metadata": {
        "id": "IjVu-6Wf72cm"
      }
    },
    {
      "cell_type": "markdown",
      "source": [
        "## Lambda Function\n",
        "\n",
        "A lambda function in Python is a small, anonymous function defined with the `lambda` keyword. It can have any number of input parameters but only one expression. Lambda functions are often used for short, throwaway functions that are used only once or for simple operations.\n",
        "\n",
        "### Syntax\n",
        "\n",
        "The syntax of a lambda function is:\n",
        "\n",
        "```python\n",
        "lambda arguments: expression\n",
        "```\n",
        "\n",
        "### Characteristics\n",
        "\n",
        "1. **Anonymous**: Lambda functions do not have a name. They are often used where function objects are required.\n",
        "2. **Single Expression**: They contain a single expression, which is evaluated and returned. This makes them less versatile than regular functions, but also concise and convenient for simple operations.\n",
        "\n",
        "### Example Usages\n",
        "\n",
        "1. **Basic Lambda Function**:\n",
        "    ```python\n",
        "    add = lambda x, y: x + y\n",
        "    print(add(2, 3))  # Output: 5\n",
        "    ```\n",
        "\n",
        "2. **Using Lambda in Higher-Order Functions**:\n",
        "    Lambda functions are often used with higher-order functions like `map()`, `filter()`, and `sorted()`.\n",
        "\n",
        "    - **`map()` Example**:\n",
        "        ```python\n",
        "        numbers = [1, 2, 3, 4]\n",
        "        squared = map(lambda x: x**2, numbers)\n",
        "        print(list(squared))  # Output: [1, 4, 9, 16]\n",
        "        ```\n",
        "\n",
        "    - **`filter()` Example**:\n",
        "        ```python\n",
        "        numbers = [1, 2, 3, 4]\n",
        "        evens = filter(lambda x: x % 2 == 0, numbers)\n",
        "        print(list(evens))  # Output: [2, 4]\n",
        "        ```\n",
        "\n",
        "    - **`sorted()` Example**:\n",
        "        ```python\n",
        "        items = [{'name': 'apple', 'price': 10}, {'name': 'banana', 'price': 5}]\n",
        "        sorted_items = sorted(items, key=lambda x: x['price'])\n",
        "        print(sorted_items)\n",
        "        # Output: [{'name': 'banana', 'price': 5}, {'name': 'apple', 'price': 10}]\n",
        "        ```\n",
        "\n",
        "3. **Immediate Use**:\n",
        "    Lambda functions can be defined and used immediately.\n",
        "\n",
        "    ```python\n",
        "    print((lambda x, y: x * y)(3, 4))  # Output: 12\n",
        "    ```\n",
        "\n",
        "### Advantages\n",
        "\n",
        "- **Concise**: Useful for small, simple operations, making the code more readable.\n",
        "- **Inline Definition**: Can be defined inline where they are needed, reducing the need for standalone function definitions.\n",
        "\n",
        "### Limitations\n",
        "\n",
        "- **Single Expression**: Limited to a single expression, which restricts their functionality compared to regular functions.\n",
        "- **Readability**: Overuse or complex lambda functions can make code harder to read and understand.\n",
        "\n",
        "### Example of Sorting Using Lambda\n",
        "\n",
        "As shown in the previous example of sorting a dictionary by values, lambda functions can be particularly handy:\n",
        "\n",
        "```python\n",
        "example_dict = {'a': 3, 'b': 1, 'c': 2, 'd': 5, 'e': 4}\n",
        "sorted_dict = dict(sorted(example_dict.items(), key=lambda item: item[1]))\n",
        "print(sorted_dict)  # Output: {'b': 1, 'c': 2, 'a': 3, 'e': 4, 'd': 5}\n",
        "```\n",
        "\n",
        "In this example, the `lambda` function `lambda item: item[1]` is used to extract the value part of each key-value pair for sorting.\n",
        "\n",
        "Lambda functions are a powerful feature in Python, especially for concise, throwaway functions used in higher-order functions and for simple expressions."
      ],
      "metadata": {
        "id": "YtbMQP_j2OJ6"
      }
    },
    {
      "cell_type": "markdown",
      "source": [
        "## Zip\n",
        "\n",
        "The `zip` function in Python is used to combine multiple lists (or other iterable objects) element-wise into tuples. It creates an iterator that aggregates elements from each of the iterables. The resulting iterator can be used to create a list of tuples, where each tuple contains one element from each of the input iterables at the same position.\n",
        "\n",
        "### Basic Syntax\n",
        "\n",
        "```python\n",
        "zip(iterable1, iterable2, ...)\n",
        "```\n",
        "\n",
        "### Simple Explanation\n",
        "\n",
        "1. **Combine Elements**:\n",
        "    - `zip` takes multiple iterables (e.g., lists, tuples) and combines their elements based on their positions.\n",
        "    - The first elements of each iterable are paired together, the second elements are paired together, and so on.\n",
        "\n",
        "2. **Result as Tuples**:\n",
        "    - The combined elements are returned as tuples. Each tuple contains one element from each iterable.\n",
        "\n",
        "### Example Usage\n",
        "\n",
        "```python\n",
        "# Two lists to be zipped together\n",
        "list1 = [1, 2, 3]\n",
        "list2 = ['a', 'b', 'c']\n",
        "\n",
        "# Using zip to combine the lists\n",
        "zipped = zip(list1, list2)\n",
        "\n",
        "# Converting the zip object to a list to see the result\n",
        "zipped_list = list(zipped)\n",
        "print(zipped_list)  # Output: [(1, 'a'), (2, 'b'), (3, 'c')]\n",
        "```\n",
        "\n",
        "### Explanation of the Example\n",
        "\n",
        "1. **Input Lists**:\n",
        "    - `list1 = [1, 2, 3]`\n",
        "    - `list2 = ['a', 'b', 'c']`\n",
        "\n",
        "2. **Using `zip`**:\n",
        "    - `zip(list1, list2)` pairs the first element of `list1` with the first element of `list2`, the second element of `list1` with the second element of `list2`, and so on.\n",
        "\n",
        "3. **Result**:\n",
        "    - The resulting pairs are tuples: `[(1, 'a'), (2, 'b'), (3, 'c')]`.\n",
        "\n",
        "### Handling Different Lengths\n",
        "\n",
        "If the input iterables are of different lengths, `zip` stops creating pairs when the shortest input iterable is exhausted.\n",
        "\n",
        "```python\n",
        "list1 = [1, 2, 3]\n",
        "list2 = ['a', 'b']\n",
        "\n",
        "zipped = zip(list1, list2)\n",
        "zipped_list = list(zipped)\n",
        "print(zipped_list)  # Output: [(1, 'a'), (2, 'b')]\n",
        "```\n",
        "\n",
        "In this case, since `list2` is shorter, the resulting list only contains pairs for the first two elements.\n",
        "\n",
        "### Unzipping\n",
        "\n",
        "You can also \"unzip\" a zipped object back into individual lists using the `zip` function with the unpacking operator `*`.\n",
        "\n",
        "```python\n",
        "zipped_list = [(1, 'a'), (2, 'b'), (3, 'c')]\n",
        "unzipped = list(zip(*zipped_list))\n",
        "print(unzipped)  # Output: [(1, 2, 3), ('a', 'b', 'c')]\n",
        "```\n",
        "\n",
        "### Summary\n",
        "\n",
        "- **Combine Elements**: The `zip` function pairs elements from multiple iterables based on their positions.\n",
        "- **Result as Tuples**: The paired elements are returned as tuples.\n",
        "- **Different Lengths**: If the iterables have different lengths, `zip` stops at the end of the shortest one.\n",
        "- **Unzipping**: You can unzip a zipped object back into individual lists.\n",
        "\n",
        "The `zip` function is a convenient way to combine elements from multiple iterables and is widely used in Python programming for tasks like iterating over multiple lists in parallel."
      ],
      "metadata": {
        "id": "4Lj7Z3LD2V8v"
      }
    },
    {
      "cell_type": "markdown",
      "source": [
        "### **Program 24**\n",
        "Write a Python Program to Convert Decimal to Binary, Octal and Hexadecimal."
      ],
      "metadata": {
        "id": "PptK7SKIAY4c"
      }
    },
    {
      "cell_type": "code",
      "source": [
        "dec_num = int(input('Enter a decimal number: '))\n",
        "print(f\"The decimal value of dec_num is: {dec_num}\")\n",
        "print(bin(dec_num),\"in binary.\")\n",
        "print(oct(dec_num),\"in octal.\")\n",
        "print(hex(dec_num),\"in hexadecimal.\")"
      ],
      "metadata": {
        "colab": {
          "base_uri": "https://localhost:8080/"
        },
        "id": "7tzsJfXpC0VF",
        "outputId": "75772b6a-2a2c-4d8c-ceef-e90f00cd7c79"
      },
      "execution_count": 1,
      "outputs": [
        {
          "output_type": "stream",
          "name": "stdout",
          "text": [
            "Enter a decimal number: 10\n",
            "The decimal value of dec_num is: 10\n",
            "0b1010 in binary.\n",
            "0o12 in octal.\n",
            "0xa in hexadecimal.\n"
          ]
        }
      ]
    },
    {
      "cell_type": "markdown",
      "source": [
        "### **Program 26**\n",
        "Write a Python Program to Make a Simple Calculator with 4 basic mathematicaloperations."
      ],
      "metadata": {
        "id": "5j2plfKIARr8"
      }
    },
    {
      "cell_type": "code",
      "source": [
        "print(\"please select your math operation: addition, subtraction, multiplication, division \")\n",
        "\n",
        "opip = input()\n",
        "\n",
        "print(\"please enter the operands\")\n",
        "\n",
        "num1 = int(input())\n",
        "num2 = int(input())\n",
        "\n",
        "if opip == \"addition\" :\n",
        "  res = num1 + num2\n",
        "elif opip == \"subtraction\":\n",
        "  res = num1 - num2\n",
        "elif opip == \"multiplication\":\n",
        "  res = num1 * num2\n",
        "elif opip == \"division\" & num2 != 0:\n",
        "  res = num1 / num2\n",
        "else:\n",
        "  print('please type a valid operation name')\n",
        "\n",
        "print(f\"Result = \", res)"
      ],
      "metadata": {
        "colab": {
          "base_uri": "https://localhost:8080/"
        },
        "id": "D3gXL58E-Ia8",
        "outputId": "59a877cf-6fa3-419f-f0d7-a8bf3efa92e4"
      },
      "execution_count": 2,
      "outputs": [
        {
          "output_type": "stream",
          "name": "stdout",
          "text": [
            "please select your math operation: addition, subtraction, multiplication, division \n",
            "addition\n",
            "please enter the operands\n",
            "2\n",
            "2\n",
            "Result =  4\n"
          ]
        }
      ]
    },
    {
      "cell_type": "markdown",
      "source": [
        "### **Program 27**\n",
        "Write a Python Program to Display Fibonacci Sequence Using Recursion.\n",
        "\n",
        "Fibonacci sequence:\n",
        "The Fibonacci sequence is a series of numbers in which each number is the sum of the two preceding ones, usually starting with 0 and 1. In mathematical terms, it is defined by the recurrence relation ( F(n) = F(n-1) + F(n-2) ), with initial conditions ( F(0) = 0 ) and ( F(1) = 1). The sequence begins: 0, 1, 1, 2, 3, 5, 8, 13, 21, and so on."
      ],
      "metadata": {
        "id": "uq7GnPQrGJRu"
      }
    },
    {
      "cell_type": "code",
      "source": [
        "# Python program to display the Fibonacci sequence\n",
        "\n",
        "def recur_fibo(n):\n",
        "  if n <= 1:\n",
        "    return n\n",
        "  else:\n",
        "    return(recur_fibo(n-1)+recur_fibo(n-2))\n",
        "\n",
        "nterms = int(input(\"Enter the number of terms(greater than zero): \"))\n",
        "\n",
        "#check if the number of terms is valid\n",
        "if nterms <= 0:\n",
        "  print(\"Please enter a positove integer\")\n",
        "else:\n",
        "  print(\"Fibonacci sequence\")\n",
        "  for i in range(nterms):\n",
        "    print(recur_fibo(i))\n"
      ],
      "metadata": {
        "colab": {
          "base_uri": "https://localhost:8080/"
        },
        "id": "3jhPndIyGklL",
        "outputId": "d627ea17-c638-4980-a47c-24f6f64c1189"
      },
      "execution_count": 3,
      "outputs": [
        {
          "output_type": "stream",
          "name": "stdout",
          "text": [
            "Enter the number of terms(greater than zero): 5\n",
            "Fibonacci sequence\n",
            "0\n",
            "1\n",
            "1\n",
            "2\n",
            "3\n"
          ]
        }
      ]
    },
    {
      "cell_type": "markdown",
      "source": [
        "### **Program 28**\n",
        "Write a Python Program to Find Factorial of Number Using Recursion.\n",
        "\n",
        "The factorial of a non-negative integer ( n ) is the product of all positive integers less than orequal to ( n )."
      ],
      "metadata": {
        "id": "o2vFnoyXI-bK"
      }
    },
    {
      "cell_type": "code",
      "source": [
        "def recur_factorial (n):\n",
        "  if n <= 2:\n",
        "    return n\n",
        "  else:\n",
        "    return n*recur_factorial(n-1)\n",
        "\n",
        "num =int(input(\"Enter the number: \"))\n",
        "\n",
        "# check if the number is negative\n",
        "\n",
        "if num < 0:\n",
        "  print(\"Sorry, factorial does not exist for negative numbers\")\n",
        "elif num == 0 :\n",
        "  print(\"The factorial of 0 is 1\")\n",
        "else:\n",
        "  print(\"The factorial of\",num,\"is\",recur_factorial(num))"
      ],
      "metadata": {
        "colab": {
          "base_uri": "https://localhost:8080/"
        },
        "id": "geejvlEmKTZD",
        "outputId": "4735a874-0e46-4d2f-8a55-6e70bf382861"
      },
      "execution_count": 4,
      "outputs": [
        {
          "output_type": "stream",
          "name": "stdout",
          "text": [
            "Enter the number: 5\n",
            "The factorial of 5 is 120\n"
          ]
        }
      ]
    },
    {
      "cell_type": "markdown",
      "source": [
        "### **Program 34**\n",
        "Write a Python Program for array rotation."
      ],
      "metadata": {
        "id": "mEbxyNL-0Eq-"
      }
    },
    {
      "cell_type": "code",
      "source": [
        "# function to rotate array by d elements using temp array\n",
        "def rotateArray(arr, n, d):\n",
        "    temp = []\n",
        "    i = 0\n",
        "    while (i < d):\n",
        "        temp.append(arr[i])\n",
        "        i = i + 1\n",
        "    i = 0\n",
        "    while (d < n):\n",
        "        arr[i] = arr[d]\n",
        "        i = i + 1\n",
        "        d = d + 1\n",
        "    arr[:] = arr[: i] + temp\n",
        "    return arr\n",
        "\n",
        "\n",
        "# Driver function to test above function\n",
        "arr = [1, 2, 3, 4, 5, 6, 7]\n",
        "print(\"Array after left rotation is: \", end=' ')\n",
        "print(rotateArray(arr, len(arr), 2))"
      ],
      "metadata": {
        "id": "Ne4x77Ic0EYa",
        "colab": {
          "base_uri": "https://localhost:8080/"
        },
        "outputId": "fe1ace65-d4f4-4bc7-b5b7-ffaffc6dbcf7"
      },
      "execution_count": 5,
      "outputs": [
        {
          "output_type": "stream",
          "name": "stdout",
          "text": [
            "Array after left rotation is:  [3, 4, 5, 6, 7, 1, 2]\n"
          ]
        }
      ]
    },
    {
      "cell_type": "markdown",
      "source": [
        "### **Program 37**\n",
        "Write a Python Program to Add Two Matrices.\n",
        "\n",
        "https://www.programiz.com/python-programming/examples/add-matrix"
      ],
      "metadata": {
        "id": "ZUklMrwv0P--"
      }
    },
    {
      "cell_type": "code",
      "source": [
        "# Program to add two matrices using nested loop\n",
        "\n",
        "X = [[12,7,3],\n",
        "    [4 ,5,6],\n",
        "    [7 ,8,9]]\n",
        "\n",
        "Y = [[5,8,1],\n",
        "    [6,7,3],\n",
        "    [4,5,9]]\n",
        "\n",
        "result = [[0,0,0],\n",
        "         [0,0,0],\n",
        "         [0,0,0]]\n",
        "\n",
        "# iterate through rows\n",
        "for i in range(len(X)):\n",
        "   # iterate through columns\n",
        "   for j in range(len(X[0])):\n",
        "       result[i][j] = X[i][j] + Y[i][j]\n",
        "\n",
        "for r in result:\n",
        "   print(r)\n"
      ],
      "metadata": {
        "id": "h0KAQp5cqGNy",
        "colab": {
          "base_uri": "https://localhost:8080/"
        },
        "outputId": "26514952-78d1-4242-ab4d-9c29f1675135"
      },
      "execution_count": 6,
      "outputs": [
        {
          "output_type": "stream",
          "name": "stdout",
          "text": [
            "[17, 15, 4]\n",
            "[10, 12, 9]\n",
            "[11, 13, 18]\n"
          ]
        }
      ]
    },
    {
      "cell_type": "markdown",
      "source": [
        "### **Program 38**\n",
        "Write a Python Program to Multiply Two Matrices.\n",
        "\n",
        "https://www.programiz.com/python-programming/examples/multiply-matrix\n",
        "https://www.youtube.com/watch?v=l6Ol6qYeFaQ&ab_channel=ProgrammingForBeginners"
      ],
      "metadata": {
        "id": "RVYwQYASxFwX"
      }
    },
    {
      "cell_type": "code",
      "source": [
        "# Program to multiply two matrices using nested loops\n",
        "\n",
        "# 3x3 matrix\n",
        "X = [[12,7,3],\n",
        "    [4 ,5,6],\n",
        "    [7 ,8,9]]\n",
        "# 3x4 matrix\n",
        "Y = [[5,8,1,2],\n",
        "    [6,7,3,0],\n",
        "    [4,5,9,1]]\n",
        "# result is 3x4\n",
        "result = [[0,0,0,0],\n",
        "         [0,0,0,0],\n",
        "         [0,0,0,0]]\n",
        "\n",
        "# iterate through rows of X\n",
        "for i in range(len(X)):\n",
        "   # iterate through columns of Y\n",
        "   for j in range(len(Y[0])):\n",
        "       # iterate through rows of Y\n",
        "       for k in range(len(Y)):\n",
        "           result[i][j] += X[i][k] * Y[k][j]\n",
        "\n",
        "for r in result:\n",
        "   print(r)\n"
      ],
      "metadata": {
        "id": "uYPl6fd_xYc5",
        "colab": {
          "base_uri": "https://localhost:8080/"
        },
        "outputId": "45129851-e882-4622-83ec-8234e2c38542"
      },
      "execution_count": 7,
      "outputs": [
        {
          "output_type": "stream",
          "name": "stdout",
          "text": [
            "[114, 160, 60, 27]\n",
            "[74, 97, 73, 14]\n",
            "[119, 157, 112, 23]\n"
          ]
        }
      ]
    },
    {
      "cell_type": "markdown",
      "source": [
        "### **Program 39**\n",
        "Write a Python Program to Transpose a Matrix."
      ],
      "metadata": {
        "id": "9inBH7sK6P14"
      }
    },
    {
      "cell_type": "code",
      "source": [
        "# Program to transpose a matrix using a nested loop\n",
        "\n",
        "X = [[12,7],\n",
        "    [4 ,5],\n",
        "    [3 ,8]]\n",
        "\n",
        "result = [[0,0,0],\n",
        "         [0,0,0]]\n",
        "\n",
        "# iterate through rows\n",
        "for i in range(len(X)):\n",
        "   # iterate through columns\n",
        "   for j in range(len(X[0])):\n",
        "       result[j][i] = X[i][j]\n",
        "\n",
        "for r in result:\n",
        "   print(r)\n"
      ],
      "metadata": {
        "id": "sbGxkLAR7x9S",
        "colab": {
          "base_uri": "https://localhost:8080/"
        },
        "outputId": "4ed72d45-556d-4ca8-d9f2-b0ece683418f"
      },
      "execution_count": 8,
      "outputs": [
        {
          "output_type": "stream",
          "name": "stdout",
          "text": [
            "[12, 4, 3]\n",
            "[7, 5, 8]\n"
          ]
        }
      ]
    },
    {
      "cell_type": "markdown",
      "source": [
        "### **Program 45**\n",
        "Write a Python program to check if the given number is Happy Number.\n",
        "\n",
        "From Wikipedia, the free encyclopaedia:\n",
        "A happy number is defined by the following process:\n",
        "Starting with any positive integer, replace the number by the sum of the squares of its digits, and repeat the process until the number equals 1 (where it will stay), or it loops endlessly in a cycle which does not include 1. Those numbers for which this process ends in 1 are happy numbers, while those that do not end in 1 are unhappy numbers.\n",
        "\n",
        "\n",
        "This code is for checking if a number is a \"happy number\" or not. Here's a simple explanation:\n",
        "\n",
        "1. It defines a function called `is_happy_number` that takes one argument, `num`.\n",
        "\n",
        "2. It initializes an empty set called `seen`, which will be used to store numbers that have been encountered during the process.\n",
        "\n",
        "3. The code enters a loop that continues until either `num` becomes 1 (indicating it's a happy number) or `num` is found in the `seen` set (indicating it's not a happy number).\n",
        "\n",
        "4. Inside the loop, it adds the current `num` to the `seen` set.\n",
        "\n",
        "5. It calculates the next `num` by summing the squares of each digit of the current `num`. This is done by converting `num` to a string, iterating over its digits, converting each digit back to an integer, squaring it, and then summing them up.\n",
        "\n",
        "6. After the loop, it returns `True` if `num` is equal to 1 (indicating it's a happy number), and `False` otherwise.\n",
        "\n",
        "So, in simple terms, the function checks whether a given number is a happy number or not, where a happy number is defined as a number that eventually reaches 1 when the process described above is repeated, and an unhappy number is one that gets stuck in a cycle and never reaches 1."
      ],
      "metadata": {
        "id": "Rr_l82VhJyOk"
      }
    },
    {
      "cell_type": "markdown",
      "source": [
        "https://www.w3resource.com/python-exercises/basic/python-basic-1-exercise-66.php\n",
        "\n",
        "Explanation:\n",
        "\n",
        "Here is a breakdown of the above Python code:\n",
        "\n",
        "Define a function named \"is_Happy_num()\" that takes a number 'n' as input.\n",
        "Initialize a set called 'past' to keep track of previously encountered numbers during the process.\n",
        "Use a while loop to continue the process until the number becomes 1 (a Happy Number) or a cycle is detected.\n",
        "Inside the loop, calculate the sum of the squares of each digit in the current number.\n",
        "Check if the current number has been encountered before. If yes, it forms a cycle, and the number is not a Happy Number.\n",
        "Add the current number to the set of past numbers.\n",
        "Return 'True' if the process reaches 1, indicating that the number is a Happy Number.\n",
        "Test the function with different inputs to check its functionality."
      ],
      "metadata": {
        "id": "_xZ0JuEhKpiy"
      }
    },
    {
      "cell_type": "code",
      "source": [
        "# Function to check if a number is a Happy Number\n",
        "def is_Happy_num(n):\n",
        "    past = set()  # Set to store previously encountered numbers during the process\n",
        "    while n != 1:  # Continue the process until the number becomes 1 (a Happy Number) or a cycle is detected\n",
        "        n = sum(int(i) ** 2 for i in str(n))  # Calculate the sum of squares of each digit in the number\n",
        "        if n in past:  # If the current number has been encountered before, it forms a cycle\n",
        "            return False  # The number is not a Happy Number\n",
        "        past.add(n)  # Add the current number to the set of past numbers\n",
        "    return True  # If the process reaches 1, the number is a Happy Number\n",
        "\n",
        "# Test cases\n",
        "print(is_Happy_num(7))\n",
        "print(is_Happy_num(932))\n",
        "print(is_Happy_num(6))\n"
      ],
      "metadata": {
        "id": "0Ros3e5RJ8TA",
        "colab": {
          "base_uri": "https://localhost:8080/"
        },
        "outputId": "a1c530d4-06b9-499f-9a3b-31df3d9dcdda"
      },
      "execution_count": 9,
      "outputs": [
        {
          "output_type": "stream",
          "name": "stdout",
          "text": [
            "True\n",
            "True\n",
            "False\n"
          ]
        }
      ]
    },
    {
      "cell_type": "markdown",
      "source": [
        "### **Program 48**\n",
        "Write a Python program to print all pronic numbers between 1 and 100\n",
        "\n",
        "A pronic number, also known as an oblong number or rectangular number, is a type offigurate number that represents a rectangle. It is the product of two consecutive integers, nand (n + 1). Mathematically, a pronic number can be expressed as:"
      ],
      "metadata": {
        "id": "7bYpg4BlBf3X"
      }
    },
    {
      "cell_type": "code",
      "source": [
        "def is_pronic(num):\n",
        "    \"\"\"\n",
        "    Function to check if a number is pronic.\n",
        "    \"\"\"\n",
        "    for i in range(num):\n",
        "        if i * (i + 1) == num:\n",
        "            return True\n",
        "    return False\n",
        "\n",
        "def print_pronic_numbers():\n",
        "    \"\"\"\n",
        "    Function to print all pronic numbers between 1 and 100.\n",
        "    \"\"\"\n",
        "    pronic_numbers = []\n",
        "    for num in range(1, 101):\n",
        "        if is_pronic(num):\n",
        "            pronic_numbers.append(num)\n",
        "    print(\"Pronic numbers between 1 and 100:\")\n",
        "    print(pronic_numbers)\n",
        "\n",
        "print_pronic_numbers()"
      ],
      "metadata": {
        "colab": {
          "base_uri": "https://localhost:8080/"
        },
        "id": "zmO22iA-BgGM",
        "outputId": "5024f967-c9de-47ae-f1c2-225d1da931c7"
      },
      "execution_count": 10,
      "outputs": [
        {
          "output_type": "stream",
          "name": "stdout",
          "text": [
            "Pronic numbers between 1 and 100:\n",
            "[2, 6, 12, 20, 30, 42, 56, 72, 90]\n"
          ]
        }
      ]
    },
    {
      "cell_type": "markdown",
      "source": [
        "This program defines two functions:\n",
        "\n",
        "1. `is_pronic(num)`: This function checks if a given number `num` is pronic by iterating through all numbers less than `num` and checking if their product is equal to `num`. If such a pair is found, the function returns `True`, otherwise `False`.\n",
        "\n",
        "2. `print_pronic_numbers()`: This function prints all pronic numbers between 1 and 100 by iterating through the numbers in that range and checking if each number is pronic using the `is_pronic()` function. It collects all pronic numbers in a list and then prints that list.\n",
        "\n",
        "When you run this program, it will output all the pronic numbers between 1 and 100."
      ],
      "metadata": {
        "id": "Cj_VeE6rBrVq"
      }
    },
    {
      "cell_type": "code",
      "source": [
        "def is_pronic_number(num):\n",
        "  for n in range(1, int(num**0.5) + 1):\n",
        "     if n * (n + 1) == num:\n",
        "        return True\n",
        "  return False\n",
        "\n",
        "print(\"Pronic numbers between 1 and 100 are:\")\n",
        "for i in range(1, 101):\n",
        "     if is_pronic_number(i):\n",
        "           print(i, end=\" | \")\n"
      ],
      "metadata": {
        "colab": {
          "base_uri": "https://localhost:8080/"
        },
        "id": "r1FNBgslCit9",
        "outputId": "3cc3b0d8-0185-48f2-b35e-7a0e3cb5153c"
      },
      "execution_count": 11,
      "outputs": [
        {
          "output_type": "stream",
          "name": "stdout",
          "text": [
            "Pronic numbers between 1 and 100 are:\n",
            "2 | 6 | 12 | 20 | 30 | 42 | 56 | 72 | 90 | "
          ]
        }
      ]
    },
    {
      "cell_type": "markdown",
      "source": [
        "This code defines a function `is_pronic_number(num)` that checks whether a given number is a pronic number. A pronic number is a number that is the product of two consecutive integers.\n",
        "\n",
        "Here's how the code works:\n",
        "\n",
        "1. The function `is_pronic_number(num)` takes a number `num` as input.\n",
        "\n",
        "2. It then iterates over a range of numbers from 1 to the square root of `num` plus 1.\n",
        "\n",
        "3. Within this loop, it checks if the product of the current number `n` and the next consecutive number `(n + 1)` is equal to `num`. If it is, the function returns `True`, indicating that `num` is a pronic number.\n",
        "\n",
        "4. If no such pair is found after the loop, the function returns `False`, indicating that `num` is not a pronic number.\n",
        "\n",
        "5. The code then prints the pronic numbers between 1 and 100 by iterating over a range from 1 to 100 and printing each number if it is a pronic number according to the `is_pronic_number()` function.\n",
        "\n",
        "When you run this code, it will print all the pronic numbers between 1 and 100.\n",
        "\n",
        "Q: Why does it iterate over a range of numbers from 1 to the square root of num plus 1?\n",
        "\n",
        "The code iterates over a range of numbers from 1 to the square root of `num` plus 1 because it's sufficient to check for pairs of consecutive integers up to the square root of `num` to determine if `num` is a pronic number.\n",
        "\n",
        "Here's why:\n",
        "\n",
        "1. A pronic number is the product of two consecutive integers. If one of those integers is greater than the square root of the pronic number, then the other integer must be less than the square root in order for their product to equal the pronic number.\n",
        "\n",
        "2. By checking for pairs of consecutive integers up to the square root of `num`, the code efficiently covers all possible pairs of consecutive integers that could multiply to give `num`.\n",
        "\n",
        "3. Once the loop reaches the square root of `num`, checking for pairs of consecutive integers becomes redundant because any remaining pairs would have already been covered. So, there's no need to continue the loop beyond the square root of `num`.\n",
        "\n",
        "Therefore, iterating over a range from 1 to the square root of `num` plus 1 ensures that the code checks all possible pairs of consecutive integers efficiently, making it a practical approach to determine if `num` is a pronic number."
      ],
      "metadata": {
        "id": "DAIx50GVC4Re"
      }
    },
    {
      "cell_type": "markdown",
      "source": [
        "### **Program 61**\n",
        "Write a Python program for removing\n",
        "character from a string."
      ],
      "metadata": {
        "id": "ZkARpdfIunlb"
      }
    },
    {
      "cell_type": "code",
      "source": [
        "def remove_ith_character(s, i):\n",
        "    \"\"\"\n",
        "    This function removes the character at index i from the string s.\n",
        "\n",
        "    :param s: The original string\n",
        "    :param i: The index of the character to remove\n",
        "    :return: The string with the ith character removed\n",
        "    \"\"\"\n",
        "    if i < 0 or i >= len(s):\n",
        "        return \"Index out of range\"\n",
        "\n",
        "    # Using string slicing to remove the ith character\n",
        "    return s[:i] + s[i+1:]\n",
        "\n",
        "# Example usage\n",
        "original_string = \"Hello, World!\"\n",
        "index_to_remove = 7\n",
        "\n",
        "result = remove_ith_character(original_string, index_to_remove)\n",
        "print(f\"Original string: {original_string}\")\n",
        "print(f\"String after removing {index_to_remove}th character: {result}\")"
      ],
      "metadata": {
        "id": "vlboYgJguon5",
        "colab": {
          "base_uri": "https://localhost:8080/"
        },
        "outputId": "8fb8932f-e4af-4b16-88f5-72a0b1e0ba6e"
      },
      "execution_count": 12,
      "outputs": [
        {
          "output_type": "stream",
          "name": "stdout",
          "text": [
            "Original string: Hello, World!\n",
            "String after removing 7th character: Hello, orld!\n"
          ]
        }
      ]
    },
    {
      "cell_type": "markdown",
      "source": [
        "### **Program 63**\n",
        "Write a Python program to check if a given string is binary string or not."
      ],
      "metadata": {
        "id": "I5lY4yHbuusH"
      }
    },
    {
      "cell_type": "code",
      "source": [
        "def is_binary_string(s):\n",
        "    \"\"\"\n",
        "    This function checks if the given string s is a binary string (contains only '0' and '1').\n",
        "\n",
        "    :param s: The string to check\n",
        "    :return: True if the string is binary, False otherwise\n",
        "    \"\"\"\n",
        "    for char in s:\n",
        "        if char not in '01':\n",
        "            return False\n",
        "    return True\n",
        "\n",
        "# Example usage\n",
        "test_string1 = \"101010\"\n",
        "test_string2 = \"102010\"\n",
        "test_string3 = \"abcde\"\n",
        "\n",
        "print(f\"Is '{test_string1}' a binary string? {is_binary_string(test_string1)}\")\n",
        "print(f\"Is '{test_string2}' a binary string? {is_binary_string(test_string2)}\")\n",
        "print(f\"Is '{test_string3}' a binary string? {is_binary_string(test_string3)}\")\n"
      ],
      "metadata": {
        "id": "OLwtoqg2u-oJ",
        "colab": {
          "base_uri": "https://localhost:8080/"
        },
        "outputId": "d280adb2-e4a5-4046-d801-8ef00701d61e"
      },
      "execution_count": 13,
      "outputs": [
        {
          "output_type": "stream",
          "name": "stdout",
          "text": [
            "Is '101010' a binary string? True\n",
            "Is '102010' a binary string? False\n",
            "Is 'abcde' a binary string? False\n"
          ]
        }
      ]
    },
    {
      "cell_type": "markdown",
      "source": [
        "Explanation:\n",
        "\n",
        "1. **Function Definition**:\n",
        "    - The function `is_binary_string` takes one parameter, `s`, which is the string to check.\n",
        "\n",
        "2. **Loop Through Characters**:\n",
        "    - The function iterates through each character in the string `s`.\n",
        "\n",
        "3. **Check Characters**:\n",
        "    - It checks if each character is either '0' or '1'. If any character is not '0' or '1', the function returns `False`.\n",
        "\n",
        "4. **Return True**:\n",
        "    - If all characters in the string are '0' or '1', the function returns `True`.\n",
        "\n",
        "Example Usage:\n",
        "\n",
        "- **test_string1** is \"101010\", which is a binary string.\n",
        "- **test_string2** is \"102010\", which is not a binary string because it contains '2'.\n",
        "- **test_string3** is \"abcde\", which is not a binary string because it contains letters.\n",
        "\n",
        "When you run the program, the output will be:\n",
        "\n",
        "```\n",
        "Is '101010' a binary string? True\n",
        "Is '102010' a binary string? False\n",
        "Is 'abcde' a binary string? False\n",
        "```\n",
        "\n",
        "This checks each string and correctly identifies whether it is a binary string or not."
      ],
      "metadata": {
        "id": "YaGI0znZvDdp"
      }
    },
    {
      "cell_type": "markdown",
      "source": [
        "### **Program 65**\n",
        "Write a Python program to find all duplicate characters in string.\n"
      ],
      "metadata": {
        "id": "pVfxG4_DvIXz"
      }
    },
    {
      "cell_type": "code",
      "source": [
        "def find_duplicate_characters(s):\n",
        "    \"\"\"\n",
        "    This function finds and returns all duplicate characters in the string s.\n",
        "\n",
        "    :param s: The string to check\n",
        "    :return: A list of duplicate characters\n",
        "    \"\"\"\n",
        "    # Create an empty dictionary to store character counts\n",
        "    char_count = {}\n",
        "   # Initialize a list to store duplicate characters\n",
        "    duplicates = []\n",
        "\n",
        "    # Count the occurrences of each character\n",
        "    for char in s:\n",
        "        if char in char_count:\n",
        "            # If the character is already in the dictionary, increment\n",
        "            char_count[char] += 1\n",
        "        else:\n",
        "            char_count[char] = 1\n",
        "\n",
        "    # Find characters that appear more than once\n",
        "    for char, count in char_count.items():\n",
        "        if count > 1:\n",
        "            duplicates.append(char)\n",
        "\n",
        "    return duplicates\n",
        "\n",
        "# Example usage\n",
        "test_string = \"programming\"\n",
        "\n",
        "result = find_duplicate_characters(test_string)\n",
        "print(f\"Duplicate characters in '{test_string}' are: {result}\")\n"
      ],
      "metadata": {
        "id": "yI_flRuqvlHq",
        "colab": {
          "base_uri": "https://localhost:8080/"
        },
        "outputId": "0019f33e-8b4d-4ba2-ba8b-4714ae5c8c90"
      },
      "execution_count": 17,
      "outputs": [
        {
          "output_type": "stream",
          "name": "stdout",
          "text": [
            "Duplicate characters in 'programming' are: ['r', 'g', 'm']\n"
          ]
        }
      ]
    },
    {
      "cell_type": "markdown",
      "source": [
        "Explanation:\n",
        "\n",
        "1. **Function Definition**:\n",
        "    - The function `find_duplicate_characters` takes one parameter, `s`, which is the string to check.\n",
        "\n",
        "2. **Counting Characters**:\n",
        "    - A dictionary `char_count` is used to count the occurrences of each character in the string.\n",
        "    - The for loop iterates over each character in the string `s`. If the character is already in `char_count`, it increments the count. If not, it adds the character to `char_count` with a count of 1.\n",
        "\n",
        "3. **Finding Duplicates**:\n",
        "    - The function then iterates over the items in the `char_count` dictionary. If a character's count is greater than 1, it means the character is a duplicate, and it is added to the `duplicates` list.\n",
        "\n",
        "4. **Return Statement**:\n",
        "    - The function returns the list of duplicate characters.\n",
        "\n",
        "Example Usage:\n",
        "\n",
        "- **test_string** is \"programming\".\n",
        "\n",
        "When you run the program, the output will be:\n",
        "\n",
        "```\n",
        "Duplicate characters in 'programming' are: ['r', 'g', 'm']\n",
        "```\n",
        "\n",
        "This output shows that the characters 'r', 'g', and 'm' appear more than once in the string \"programming\"."
      ],
      "metadata": {
        "id": "DH3bvwp1w0lU"
      }
    },
    {
      "cell_type": "markdown",
      "source": [
        "### **Program 67**\n",
        "Write a Python program to Extract Unique dictionary values."
      ],
      "metadata": {
        "id": "xXYcNNbswRGn"
      }
    },
    {
      "cell_type": "code",
      "source": [
        "#To extract unique values from a dictionary, you can use a set to collect the unique values.\n",
        "\n",
        "def extract_unique_values(input_dict):\n",
        "    \"\"\"\n",
        "    This function extracts unique values from the given dictionary.\n",
        "\n",
        "    :param input_dict: The dictionary to extract values from\n",
        "    :return: A set of unique values\n",
        "    \"\"\"\n",
        "\n",
        "    # Initialize an empty set to store unique values\n",
        "    unique_values = set()\n",
        "\n",
        "    # Iterate through the values of the dictionary\n",
        "    for value in input_dict.values():\n",
        "        if isinstance(value, list):\n",
        "            unique_values.update(value)\n",
        "        else:\n",
        "            unique_values.add(value)\n",
        "\n",
        "    return unique_values\n",
        "\n",
        "# Example usage\n",
        "example_dict = {\n",
        "    'a': 1,\n",
        "    'b': 2,\n",
        "    'c': 3,\n",
        "    'd': 2,\n",
        "    'e': 4,\n",
        "    'f': 3,\n",
        "    'g': [1, 2, 3],\n",
        "    'h': [2, 4, 6]\n",
        "}\n",
        "\n",
        "result = extract_unique_values(example_dict)\n",
        "print(f\"Unique values in the dictionary: {result}\")\n"
      ],
      "metadata": {
        "id": "gW_NVxWRwWDF",
        "colab": {
          "base_uri": "https://localhost:8080/"
        },
        "outputId": "5682d35b-83f2-44c9-cdca-e991589eca38"
      },
      "execution_count": 18,
      "outputs": [
        {
          "output_type": "stream",
          "name": "stdout",
          "text": [
            "Unique values in the dictionary: {1, 2, 3, 4, 6}\n"
          ]
        }
      ]
    },
    {
      "cell_type": "markdown",
      "source": [
        "Explanation:\n",
        "\n",
        "1. **Function Definition**:\n",
        "    - The function `extract_unique_values` takes one parameter, `input_dict`, which is the dictionary to extract unique values from.\n",
        "\n",
        "2. **Set for Unique Values**:\n",
        "    - A set `unique_values` is used to store unique values because sets automatically handle duplicate values.\n",
        "\n",
        "3. **Iterating over Dictionary Values**:\n",
        "    - The function iterates over all values in the dictionary using `input_dict.values()`.\n",
        "    - If a value is a list, the function uses `update` to add all elements of the list to the set. If it's a single value, it uses `add` to add the value to the set.\n",
        "\n",
        "4. **Return Statement**:\n",
        "    - The function returns the set of unique values.\n",
        "\n",
        "Example Usage:\n",
        "\n",
        "- **example_dict** contains a mix of single values and lists as values.\n",
        "\n",
        "When you run the program, the output will be:\n",
        "\n",
        "```\n",
        "Unique values in the dictionary: {1, 2, 3, 4, 6}\n",
        "```\n",
        "\n",
        "This output shows the unique values extracted from the dictionary, including all unique elements from the lists within the dictionary."
      ],
      "metadata": {
        "id": "Qcl2N0uowk6N"
      }
    },
    {
      "cell_type": "markdown",
      "source": [
        "### **Program 70**\n",
        "Write a Python program to convert key-values list to flat dictionary."
      ],
      "metadata": {
        "id": "C5jsrMNMFbh2"
      }
    },
    {
      "cell_type": "code",
      "source": [
        "def list_to_flat_dict(key_value_list):\n",
        "    \"\"\"\n",
        "    This function converts a list of key-value pairs into a flat dictionary.\n",
        "\n",
        "    :param key_value_list: A list of tuples, where each tuple contains a key-value pair\n",
        "    :return: A dictionary containing the key-value pairs\n",
        "    \"\"\"\n",
        "\n",
        "    # Initialize an empty dictionary\n",
        "    flat_dict = {}\n",
        "\n",
        "    # Iterate through the list and add key-value pairs to the dictionary\n",
        "    for key, value in key_value_list:\n",
        "        flat_dict[key] = value\n",
        "\n",
        "    return flat_dict\n",
        "\n",
        "# Example usage\n",
        "key_value_list = [('a', 1), ('b', 2), ('c', 3), ('d', 4), ('e', 5)]\n",
        "\n",
        "result = list_to_flat_dict(key_value_list)\n",
        "print(\"Flat dictionary:\", result)\n"
      ],
      "metadata": {
        "id": "bA0k02XZFdYc",
        "colab": {
          "base_uri": "https://localhost:8080/"
        },
        "outputId": "d5689f34-b2c3-4346-b765-71ad3e5653cd"
      },
      "execution_count": 19,
      "outputs": [
        {
          "output_type": "stream",
          "name": "stdout",
          "text": [
            "Flat dictionary: {'a': 1, 'b': 2, 'c': 3, 'd': 4, 'e': 5}\n"
          ]
        }
      ]
    },
    {
      "cell_type": "markdown",
      "source": [
        "Explanation:\n",
        "\n",
        "1. **Function Definition**:\n",
        "    - The function `list_to_flat_dict` takes one parameter, `key_value_list`, which is a list of tuples. Each tuple contains a key-value pair.\n",
        "\n",
        "2. **Creating the Dictionary**:\n",
        "    - An empty dictionary `flat_dict` is initialized.\n",
        "    - The function iterates over each key-value pair in the `key_value_list` and assigns the value to the corresponding key in the dictionary.\n",
        "\n",
        "3. **Return Statement**:\n",
        "    - The function returns the `flat_dict` which now contains all the key-value pairs from the list.\n",
        "\n",
        "Example Usage:\n",
        "\n",
        "- **key_value_list** is a list of tuples, where each tuple contains a key and a value.\n",
        "\n",
        "When you run the program, the output will be:\n",
        "\n",
        "```\n",
        "Flat dictionary: {'a': 1, 'b': 2, 'c': 3, 'd': 4, 'e': 5}\n",
        "```\n",
        "\n",
        "This output shows that the list of key-value pairs has been successfully converted into a flat dictionary."
      ],
      "metadata": {
        "id": "hAhHjljVFfhn"
      }
    },
    {
      "cell_type": "markdown",
      "source": [
        "### **Program 72**\n",
        "Write a Python program to check order of character in string using OrderedDict()."
      ],
      "metadata": {
        "id": "uVVa4o5nHwzj"
      }
    },
    {
      "cell_type": "code",
      "source": [
        "from collections import OrderedDict\n",
        "\n",
        "def check_order(string,reference):\n",
        "   # Create OrderedDicts for both strings\n",
        "   string_dict=OrderedDict.fromkeys(string)\n",
        "   reference_dict= OrderedDict.fromkeys(reference)\n",
        "   #Check if the OrderedDict for the string matches the OrderedDict\n",
        "   return string_dict==reference_dict\n",
        "\n",
        "# Input strings\n",
        "input_string = \"hello world\"\n",
        "reference_string = \"helo wrd\"\n",
        "\n",
        "# Check if the order of characters in input_string matches reference_st\n",
        "if check_order (input_string,reference_string):\n",
        "  print (\"The order of characters in the input string matches the reference string.\")\n",
        "else:\n",
        "  print( \"The order of characters in the input string does not match the reference string.\")"
      ],
      "metadata": {
        "colab": {
          "base_uri": "https://localhost:8080/"
        },
        "id": "hjLyCsYUIdNA",
        "outputId": "8ffb560c-0ccd-47cb-efbd-785a59f79ef6"
      },
      "execution_count": 20,
      "outputs": [
        {
          "output_type": "stream",
          "name": "stdout",
          "text": [
            "The order of characters in the input string matches the reference string.\n"
          ]
        }
      ]
    },
    {
      "cell_type": "markdown",
      "source": [
        "To check the order of characters in a string using OrderedDict means to verify whether a specified sequence of characters (pattern) appears in the same order in the given string. The OrderedDict from the collections module maintains the order in which keys are inserted, making it suitable for this task."
      ],
      "metadata": {
        "id": "uVfLEHjeKNOf"
      }
    },
    {
      "cell_type": "markdown",
      "source": [
        "### **Program 73**\n",
        "Write a Python program to sort Python Dictionaries by Key or Value."
      ],
      "metadata": {
        "id": "pQl5nqNP1BbJ"
      }
    },
    {
      "cell_type": "code",
      "source": [
        "def sort_dict_by_values(input_dict):\n",
        "    \"\"\"\n",
        "    This function sorts a dictionary by its values.\n",
        "\n",
        "    :param input_dict: The dictionary to sort\n",
        "    :return: A sorted dictionary by values\n",
        "    \"\"\"\n",
        "    # Using sorted() to sort the dictionary by values\n",
        "    sorted_dict = dict(sorted(input_dict.items(), key=lambda item: item[1]))\n",
        "    return sorted_dict\n",
        "\n",
        "# Example usage\n",
        "example_dict = {\n",
        "    'a': 3,\n",
        "    'b': 1,\n",
        "    'c': 2,\n",
        "    'd': 5,\n",
        "    'e': 4\n",
        "}\n",
        "\n",
        "sorted_result = sort_dict_by_values(example_dict)\n",
        "print(\"Original dictionary:\", example_dict)\n",
        "print(\"Sorted dictionary by values:\", sorted_result)\n"
      ],
      "metadata": {
        "id": "coD3coXh1CvG",
        "colab": {
          "base_uri": "https://localhost:8080/"
        },
        "outputId": "9bfcd31e-7b5a-42c9-f8ae-bd1f44dfab3e"
      },
      "execution_count": 21,
      "outputs": [
        {
          "output_type": "stream",
          "name": "stdout",
          "text": [
            "Original dictionary: {'a': 3, 'b': 1, 'c': 2, 'd': 5, 'e': 4}\n",
            "Sorted dictionary by values: {'b': 1, 'c': 2, 'a': 3, 'e': 4, 'd': 5}\n"
          ]
        }
      ]
    },
    {
      "cell_type": "markdown",
      "source": [
        "Explanation:\n",
        "\n",
        "1. **Function Definition**:\n",
        "    - The function `sort_dict_by_values` takes one parameter, `input_dict`, which is the dictionary to be sorted.\n",
        "\n",
        "2. **Sorting the Dictionary**:\n",
        "    - The `sorted` function is used to sort the dictionary. The `input_dict.items()` method returns a view object that displays a list of a dictionary's key-value tuple pairs.\n",
        "    - The `key` argument in the `sorted` function is a lambda function `lambda item: item[1]`, which indicates that sorting should be based on the dictionary values (`item[1]`).\n",
        "\n",
        "3. **Convert to Dictionary**:\n",
        "    - The `sorted` function returns a list of tuples sorted by the dictionary values. Using `dict()`, we convert this sorted list of tuples back into a dictionary.\n",
        "\n",
        "4. **Return Statement**:\n",
        "    - The function returns the sorted dictionary.\n",
        "\n",
        "Example Usage:\n",
        "\n",
        "- **example_dict** contains keys with integer values.\n",
        "\n",
        "When you run the program, the output will be:\n",
        "\n",
        "```\n",
        "Original dictionary: {'a': 3, 'b': 1, 'c': 2, 'd': 5, 'e': 4}\n",
        "Sorted dictionary by values: {'b': 1, 'c': 2, 'a': 3, 'e': 4, 'd': 5}\n",
        "```\n",
        "\n",
        "This output shows the original dictionary and the dictionary sorted by its values in ascending order. The keys 'b', 'c', 'a', 'e', and 'd' are now sorted according to their corresponding values 1, 2, 3, 4, and 5, respectively."
      ],
      "metadata": {
        "id": "7F9HYLOb1FGp"
      }
    },
    {
      "cell_type": "markdown",
      "source": [
        "### **Program 74**\n",
        "Write a program that calculates and prints the value according to the given formula:\n",
        "\n",
        "Break down the code `print(','.join(map(str, result)))`\n",
        "to understand what it does step by step.\n",
        "\n",
        "Step-by-Step Explanation\n",
        "\n",
        "1. **`map(str, result)`**:\n",
        "    - The `map` function applies the `str` function to each element in the iterable `result`.\n",
        "    - This converts each element in `result` to its string representation.\n",
        "    - Example: If `result = [1, 2, 3]`, `map(str, result)` will produce `['1', '2', '3']`.\n",
        "\n",
        "2. **`','.join(...)`**:\n",
        "    - The `join` method is called on the string `','`.\n",
        "    - It concatenates all the elements in the iterable (produced by `map(str, result)`) into a single string, with each element separated by a comma.\n",
        "    - Example: `','.join(['1', '2', '3'])` will produce the string `'1,2,3'`.\n",
        "\n",
        "3. **`print(...)`**:\n",
        "    - The `print` function outputs the resulting string to the console.\n",
        "\n",
        "Full Example\n",
        "\n",
        "If we have `result = [1, 2, 3]`, the code `print(','.join(map(str, result)))` will:\n",
        "\n",
        "1. Convert each number to a string: `['1', '2', '3']`\n",
        "2. Join these strings with commas: `'1,2,3'`\n",
        "3. Print the final string: `1,2,3`\n",
        "\n",
        "Example with Code:\n",
        "\n",
        "```python\n",
        "result = [1, 2, 3]\n",
        "print(','.join(map(str, result)))  # Output: 1,2,3\n",
        "```\n",
        "\n",
        "Detailed Breakdown:\n",
        "\n",
        "1. **`result = [1, 2, 3]`**:\n",
        "    - The list `result` contains the integers 1, 2, and 3.\n",
        "\n",
        "2. **`map(str, result)`**:\n",
        "    - `map` takes two arguments: a function and an iterable. It applies the function (`str` in this case) to each item in the iterable (`result`).\n",
        "    - It produces an iterator of strings: `['1', '2', '3']`.\n",
        "\n",
        "3. **`','.join(...)`**:\n",
        "    - The `join` method concatenates these strings with a comma between each pair of elements.\n",
        "    - It results in the string `'1,2,3'`.\n",
        "\n",
        "4. **`print(...)`**:\n",
        "    - The `print` function outputs the final string `'1,2,3'` to the console.\n",
        "\n",
        "Why Use This Code?\n",
        "\n",
        "This code is useful when you need to convert a list of items to a single string where items are separated by a specific delimiter (a comma in this case). This is often used in scenarios like creating CSV (Comma-Separated Values) strings, formatting output, or generating a string representation of a list for display purposes.\n",
        "\n",
        "Another Example:\n",
        "\n",
        "Let's consider another example where `result` is a list of words:\n",
        "\n",
        "```python\n",
        "result = ['apple', 'banana', 'cherry']\n",
        "print(','.join(map(str, result)))  # Output: apple,banana,cherry\n",
        "```\n",
        "\n",
        "In this example:\n",
        "1. `map(str, result)` is essentially unnecessary because `result` already contains strings.\n",
        "2. `','.join(result)` directly joins the words with commas.\n",
        "3. The `print` function outputs `apple,banana,cherry`.\n",
        "\n",
        "This code effectively and concisely converts lists of elements into a neatly formatted string."
      ],
      "metadata": {
        "id": "YPwKYDLS6DT2"
      }
    },
    {
      "cell_type": "markdown",
      "source": [
        "### **Program 75**\n",
        "Write a program which takes 2 digits, X,Y as input and generates a 2-dimensionalarray. The element value in the i-th row and j-th column of the array should be i*j."
      ],
      "metadata": {
        "id": "s3ju-u8w6S49"
      }
    },
    {
      "cell_type": "code",
      "source": [
        "# Function to generate 2D array\n",
        "def generate_2d_array(x, y):\n",
        "    array = []\n",
        "    for i in range(x):\n",
        "        row = []\n",
        "        for j in range(y):\n",
        "            row.append(i * j)\n",
        "        array.append(row)\n",
        "    return array\n",
        "\n",
        "# Input: Two digits X and Y\n",
        "x = int(input(\"Enter the number of rows (X): \"))\n",
        "y = int(input(\"Enter the number of columns (Y): \"))\n",
        "\n",
        "# Generate the 2D array\n",
        "result_array = generate_2d_array(x, y)\n",
        "\n",
        "# Print the 2D array\n",
        "for row in result_array:\n",
        "    print(row)\n"
      ],
      "metadata": {
        "id": "Zx_tcdYT7C7g",
        "colab": {
          "base_uri": "https://localhost:8080/"
        },
        "outputId": "eb663db3-5959-47a3-fa79-cdc248c7178d"
      },
      "execution_count": 22,
      "outputs": [
        {
          "output_type": "stream",
          "name": "stdout",
          "text": [
            "Enter the number of rows (X): 2\n",
            "Enter the number of columns (Y): 2\n",
            "[0, 0]\n",
            "[0, 1]\n"
          ]
        }
      ]
    },
    {
      "cell_type": "markdown",
      "source": [
        "Explanation:\n",
        "\n",
        "1. **Function Definition**:\n",
        "    - The function `generate_2d_array(x, y)` creates a 2-dimensional array with `x` rows and `y` columns.\n",
        "    - It initializes an empty list `array` to hold the rows.\n",
        "    - It uses nested loops to iterate over the range of `x` (rows) and `y` (columns).\n",
        "    - For each pair of indices `(i, j)`, it calculates the product `i * j` and appends it to the current row.\n",
        "    - After constructing each row, it appends the row to the `array`.\n",
        "\n",
        "2. **User Input**:\n",
        "    - The program prompts the user to input the number of rows (`x`) and columns (`y`).\n",
        "\n",
        "3. **Generate the 2D Array**:\n",
        "    - The program calls the `generate_2d_array(x, y)` function with the user inputs and stores the result in `result_array`.\n",
        "\n",
        "4. **Print the 2D Array**:\n",
        "    - The program iterates over the rows of `result_array` and prints each row.\n",
        "\n",
        "Example Usage:\n",
        "\n",
        "```\n",
        "Enter the number of rows (X): 3\n",
        "Enter the number of columns (Y): 4\n",
        "[0, 0, 0, 0]\n",
        "[0, 1, 2, 3]\n",
        "[0, 2, 4, 6]\n",
        "```\n",
        "\n",
        "In this example:\n",
        "- The user inputs `3` for the number of rows and `4` for the number of columns.\n",
        "- The program generates a 2-dimensional array with 3 rows and 4 columns.\n",
        "- The value of each element in the array is the product of its row and column indices.\n",
        "\n",
        "The resulting array is:\n",
        "```\n",
        "[\n",
        " [0, 0, 0, 0],\n",
        " [0, 1, 2, 3],\n",
        " [0, 2, 4, 6]\n",
        "]\n",
        "```\n",
        "\n",
        "This program can be used to create any size of 2-dimensional array based on the given input dimensions."
      ],
      "metadata": {
        "id": "1-5edeQR7FTJ"
      }
    },
    {
      "cell_type": "markdown",
      "source": [
        "### **Program 80**"
      ],
      "metadata": {
        "id": "paOtR6XK7Kn8"
      }
    },
    {
      "cell_type": "markdown",
      "source": [
        "A website requires the users to input username and password to register. Write aprogram to check the validity of password input by users. Following are the criteriafor checking the password:\n",
        "1. At least 1 letter between [a-z]\n",
        "2. At least 1 number between [0-9]\n",
        "1. At least 1 letter between [A-Z]\n",
        "3.\n",
        "At least 1 character from [$#@]\n",
        "4. Minimum length of transaction password: 6\n",
        "5. Maximum length of transaction password: 12\n",
        "Your program should accept a sequence of comma separated passwords and willcheck them according to the above criteria. Passwords that match the criteria are tobe printed, each separated by a comma.\n",
        "Example\n",
        "If the following passwords are given as input to the program:\n",
        "ABd1234@1,a F1#,2w3E*,2We3345\n",
        "Then, the output of the program should be:\n",
        "ABd1234@1"
      ],
      "metadata": {
        "id": "5fd6KkjMIQ_l"
      }
    },
    {
      "cell_type": "code",
      "source": [
        "import re\n",
        "\n",
        "def is_valid_password(password):\n",
        "    # Check the length of the password\n",
        "    if len(password) < 6 or len(password) > 12:\n",
        "        return False\n",
        "\n",
        "    # Check for at least one lowercase letter\n",
        "    if not re.search(\"[a-z]\", password):\n",
        "        return False\n",
        "\n",
        "    # Check for at least one uppercase letter\n",
        "    if not re.search(\"[A-Z]\", password):\n",
        "        return False\n",
        "\n",
        "    # Check for at least one digit\n",
        "    if not re.search(\"[0-9]\", password):\n",
        "        return False\n",
        "\n",
        "    # Check for at least one special character from [$#@]\n",
        "    if not re.search(\"[$#@]\", password):\n",
        "        return False\n",
        "\n",
        "    return True\n",
        "\n",
        "# Input: sequence of comma-separated passwords\n",
        "passwords = input(\"Enter passwords, separated by commas: \").split(',')\n",
        "\n",
        "# Filter valid passwords\n",
        "valid_passwords = [pwd for pwd in passwords if is_valid_password(pwd)]\n",
        "\n",
        "# Output valid passwords, separated by commas\n",
        "print(\",\".join(valid_passwords))\n"
      ],
      "metadata": {
        "id": "XTvAAME4I4wB",
        "colab": {
          "base_uri": "https://localhost:8080/"
        },
        "outputId": "49f6fd1e-e307-475d-e9cd-394d1dc91ce4"
      },
      "execution_count": 23,
      "outputs": [
        {
          "output_type": "stream",
          "name": "stdout",
          "text": [
            "Enter passwords, separated by commas: Hellooooo!\n",
            "\n"
          ]
        }
      ]
    },
    {
      "cell_type": "markdown",
      "source": [
        "Certainly! Let's break down the regular expression pattern `r\"^(?=.*[a-z])(?=.*[A-Z])(?=.*[0-9])(?=.*[$#@])\"` and explain how it works in the context of `re.match`.\n",
        "\n",
        "## Regular Expression Breakdown\n",
        "\n",
        "- `^`: This asserts the position at the start of the string. It ensures that the match starts from the beginning of the string.\n",
        "\n",
        "- `(?=.*[a-z])`: This is a positive lookahead assertion. It means that there must be at least one lowercase letter (`[a-z]`) somewhere in the string. The `.*` before `[a-z]` allows for any number of any characters to appear before the lowercase letter.\n",
        "\n",
        "- `(?=.*[A-Z])`: This is another positive lookahead assertion. It ensures that there is at least one uppercase letter (`[A-Z]`) somewhere in the string. Again, `.*` allows for any number of characters before the uppercase letter.\n",
        "\n",
        "- `(?=.*[0-9])`: This positive lookahead assertion ensures that there is at least one digit (`[0-9]`) somewhere in the string.\n",
        "\n",
        "- `(?=.*[$#@])`: This positive lookahead assertion ensures that there is at least one special character from the set `[$#@]` somewhere in the string.\n",
        "\n",
        "### How It Works\n",
        "\n",
        "When you use `re.match` with this pattern, it checks the entire string to see if all the conditions specified in the lookahead assertions are met.\n",
        "\n",
        "Here's what happens step by step:\n",
        "\n",
        "1. **`re.match(r\"^(?=.*[a-z])(?=.*[A-Z])(?=.*[0-9])(?=.*[$#@])\", password)`**:\n",
        "    - The `re.match` function attempts to match the given pattern to the string `password`.\n",
        "    - The `^` at the beginning ensures that the match starts at the beginning of the string.\n",
        "\n",
        "2. **Positive Lookaheads**:\n",
        "    - `(?=.*[a-z])`: Checks if there's at least one lowercase letter in the string.\n",
        "    - `(?=.*[A-Z])`: Checks if there's at least one uppercase letter in the string.\n",
        "    - `(?=.*[0-9])`: Checks if there's at least one digit in the string.\n",
        "    - `(?=.*[$#@])`: Checks if there's at least one special character (`$`, `#`, or `@`) in the string.\n",
        "\n",
        "Each of these lookaheads is independent of the others. They do not consume characters in the string but assert that the required characters exist somewhere in the string.\n",
        "\n",
        "### Example\n",
        "\n",
        "Consider the password `ABd1234@1`:\n",
        "\n",
        "- `(?=.*[a-z])`: The string contains the lowercase letter `d`.\n",
        "- `(?=.*[A-Z])`: The string contains the uppercase letters `A` and `B`.\n",
        "- `(?=.*[0-9])`: The string contains the digits `1`, `2`, `3`, and `4`.\n",
        "- `(?=.*[$#@])`: The string contains the special character `@`.\n",
        "\n",
        "Since `ABd1234@1` meets all these conditions, the `re.match` will succeed.\n",
        "\n",
        "### Full Program Context\n",
        "\n",
        "Here's how this would be used in a complete program to validate passwords:\n",
        "\n",
        "```python\n",
        "import re\n",
        "\n",
        "def is_valid_password(password):\n",
        "    # Check if password matches the required pattern\n",
        "    pattern = r\"^(?=.*[a-z])(?=.*[A-Z])(?=.*[0-9])(?=.*[$#@])\"\n",
        "    if re.match(pattern, password) and 6 <= len(password) <= 12:\n",
        "        return True\n",
        "    return False\n",
        "\n",
        "# Input: sequence of comma-separated passwords\n",
        "passwords = input(\"Enter passwords, separated by commas: \").split(',')\n",
        "\n",
        "# Filter valid passwords\n",
        "valid_passwords = [pwd for pwd in passwords if is_valid_password(pwd)]\n",
        "\n",
        "# Output valid passwords, separated by commas\n",
        "print(\",\".join(valid_passwords))\n",
        "```\n",
        "\n",
        "### Summary\n",
        "\n",
        "- The `re.match` function with the given regular expression pattern ensures that the password contains at least one lowercase letter, one uppercase letter, one digit, and one special character from the set `[$#@]`.\n",
        "- The `.*` within each lookahead allows for any number of characters before the required character type.\n",
        "- The full pattern `^(?=.*[a-z])(?=.*[A-Z])(?=.*[0-9])(?=.*[$#@])` ensures that all conditions are checked without consuming any characters in the string.\n",
        "- This pattern, combined with a length check, validates that a password meets the specified criteria."
      ],
      "metadata": {
        "id": "AdhvpBUlJSEw"
      }
    },
    {
      "cell_type": "markdown",
      "source": [
        "QA Topic **YIELD**\n",
        "\n",
        "In Python, the `yield` keyword is used in functions to turn them into generators. Generators are a special type of iterator that allow you to iterate over a sequence of values, but unlike normal functions, generators can yield values one at a time and resume where they left off when called again.\n",
        "\n",
        "## How `yield` Works\n",
        "\n",
        "When a function contains the `yield` keyword, it is transformed into a generator function. When called, the generator function returns a generator object without executing the function. When the generator's `__next__()` method is called (e.g., via the `next()` function or by iterating over it), the function executes until it reaches the `yield` keyword, which provides a value to the code that called `next()` and pauses the function's execution, saving its state. When `__next__()` is called again, the function resumes execution immediately after the `yield` statement.\n",
        "\n",
        "### Example of a Generator Function\n",
        "\n",
        "```python\n",
        "def simple_generator():\n",
        "    yield 1\n",
        "    yield 2\n",
        "    yield 3\n",
        "\n",
        "# Creating a generator object\n",
        "gen = simple_generator()\n",
        "\n",
        "# Iterating over the generator\n",
        "print(next(gen))  # Output: 1\n",
        "print(next(gen))  # Output: 2\n",
        "print(next(gen))  # Output: 3\n",
        "\n",
        "# When the generator is exhausted, it raises StopIteration\n",
        "# print(next(gen))  # Raises StopIteration\n",
        "```\n",
        "\n",
        "### Key Points\n",
        "\n",
        "1. **State Retention**:\n",
        "    - Unlike a regular function that exits when it returns a value, a generator function retains its state between yields. This allows it to resume execution where it left off.\n",
        "\n",
        "2. **Lazy Evaluation**:\n",
        "    - Generators produce items only when asked (lazy evaluation). This makes them very memory efficient, especially when dealing with large data sets or infinite sequences.\n",
        "\n",
        "3. **Example with a Loop**:\n",
        "    - Generators are often used with loops to produce a series of values.\n",
        "\n",
        "```python\n",
        "def count_up_to(max):\n",
        "    count = 1\n",
        "    while count <= max:\n",
        "        yield count\n",
        "        count += 1\n",
        "\n",
        "# Using the generator\n",
        "counter = count_up_to(5)\n",
        "for num in counter:\n",
        "    print(num)\n",
        "# Output: 1 2 3 4 5\n",
        "```\n",
        "\n",
        "### Benefits of Using `yield`\n",
        "\n",
        "1. **Memory Efficiency**:\n",
        "    - Generators are memory efficient because they yield items one at a time and do not store the entire sequence in memory.\n",
        "\n",
        "2. **Representing Infinite Sequences**:\n",
        "    - Generators can represent infinite sequences, like the Fibonacci sequence or a sequence of prime numbers, without running into memory issues.\n",
        "\n",
        "3. **Pipeline Processing**:\n",
        "    - Generators can be used in pipelines, where data is processed in stages, each stage represented by a generator.\n",
        "\n",
        "### Practical Example: Fibonacci Sequence\n",
        "\n",
        "```python\n",
        "def fibonacci_sequence():\n",
        "    a, b = 0, 1\n",
        "    while True:\n",
        "        yield a\n",
        "        a, b = b, a + b\n",
        "\n",
        "# Using the generator\n",
        "fib = fibonacci_sequence()\n",
        "for _ in range(10):\n",
        "    print(next(fib))\n",
        "# Output: 0 1 1 2 3 5 8 13 21 34\n",
        "```\n",
        "\n",
        "In this example, the `fibonacci_sequence` generator produces the Fibonacci sequence indefinitely, one value at a time.\n",
        "\n",
        "### Summary\n",
        "\n",
        "- **`yield`**: Turns a function into a generator, allowing it to produce a series of values lazily.\n",
        "- **State Retention**: The function retains its state between `yield` calls.\n",
        "- **Memory Efficiency**: Generators are more memory-efficient than lists, especially for large or infinite sequences.\n",
        "- **Lazy Evaluation**: Values are generated on-the-fly when needed, rather than all at once.\n",
        "\n",
        "Using `yield` in Python is a powerful way to create iterators with less memory overhead and the ability to produce values on demand."
      ],
      "metadata": {
        "id": "JgiQX0UNJWd8"
      }
    },
    {
      "cell_type": "markdown",
      "source": [
        "**Program 84**\n",
        "Please write a program to generate all sentences where subject is in [\"I\", \"You\"] andverb is in [\"Play\", \"Love\"] and the object is in [\"Hockey\",\"Football\"]."
      ],
      "metadata": {
        "id": "nYKb5WmSKj8B"
      }
    },
    {
      "cell_type": "code",
      "source": [
        "subjects=[\"I\",\"You\"]\n",
        "verbs=[\"Play\", \"Love\"]\n",
        "objects=[\"Hockey\",\"Football\"]\n",
        "\n",
        "sentences = []\n",
        "\n",
        "for sub in subjects :\n",
        "   for vrb in verbs :\n",
        "      for obj in objects :\n",
        "             sentence = f\"{ sub } { vrb } { obj }.\"\n",
        "             sentences.append(sentence)\n",
        "\n",
        "for sentence in sentences :\n",
        "   print (sentence)"
      ],
      "metadata": {
        "id": "L1a41vwkM9wM",
        "colab": {
          "base_uri": "https://localhost:8080/"
        },
        "outputId": "3ae417a4-8321-4b17-9aab-3e98e253ca97"
      },
      "execution_count": 24,
      "outputs": [
        {
          "output_type": "stream",
          "name": "stdout",
          "text": [
            "I Play Hockey.\n",
            "I Play Football.\n",
            "I Love Hockey.\n",
            "I Love Football.\n",
            "You Play Hockey.\n",
            "You Play Football.\n",
            "You Love Hockey.\n",
            "You Love Football.\n"
          ]
        }
      ]
    },
    {
      "cell_type": "markdown",
      "source": [
        "### **Program 86**\n",
        "Please write a binary search function which searches an item in a sorted list. Thefunction should return the index of element to be searched in the list."
      ],
      "metadata": {
        "id": "Nypk5_FANKcW"
      }
    },
    {
      "cell_type": "code",
      "source": [
        "def binary_search(arr, target):\n",
        "    low = 0\n",
        "    high = len(arr) - 1\n",
        "\n",
        "    while low <= high:\n",
        "        mid = (low + high) // 2\n",
        "\n",
        "        # Check if target is present at mid\n",
        "        if arr[mid] == target:\n",
        "            return mid\n",
        "\n",
        "        # If target is greater, ignore left half\n",
        "        elif arr[mid] < target:\n",
        "            low = mid + 1\n",
        "\n",
        "        # If target is smaller, ignore right half\n",
        "        else:\n",
        "            high = mid - 1\n",
        "\n",
        "    # If we reach here, the element was not present\n",
        "    return -1\n",
        "\n",
        "# Example usage:\n",
        "sorted_list = [2, 4, 6, 8, 10, 12, 14, 16, 18, 20]\n",
        "target_element = 12\n",
        "\n",
        "# Perform binary search\n",
        "result_index = binary_search(sorted_list, target_element)\n",
        "\n",
        "if result_index != -1:\n",
        "    print(f\"Element {target_element} found at index {result_index}.\")\n",
        "else:\n",
        "    print(f\"Element {target_element} not found in the list.\")"
      ],
      "metadata": {
        "id": "89pqEGcbNL4C",
        "colab": {
          "base_uri": "https://localhost:8080/"
        },
        "outputId": "7be75eed-0217-4c55-d466-77dde23526a5"
      },
      "execution_count": 25,
      "outputs": [
        {
          "output_type": "stream",
          "name": "stdout",
          "text": [
            "Element 12 found at index 5.\n"
          ]
        }
      ]
    },
    {
      "cell_type": "markdown",
      "source": [
        "Python function that implements binary search to find an item in a sorted list. Binary search is efficient for searching in sorted lists because it repeatedly divides the search interval in half until the target element is found or the interval is empty.\n",
        "\n",
        "Explanation of the Binary Search Function:\n",
        "\n",
        "1. **Initialization**:\n",
        "   - `low` is set to the index of the first element (0) and `high` to the index of the last element (`len(arr) - 1`).\n",
        "\n",
        "2. **Binary Search Loop**:\n",
        "   - The loop continues until `low` is less than or equal to `high`.\n",
        "   - `mid` is calculated as the middle index of the current search interval.\n",
        "   \n",
        "3. **Comparison**:\n",
        "   - If the middle element (`arr[mid]`) is equal to `target`, return `mid` (index of the target).\n",
        "   - If `arr[mid]` is less than `target`, adjust `low` to `mid + 1` to search in the right half of the list.\n",
        "   - If `arr[mid]` is greater than `target`, adjust `high` to `mid - 1` to search in the left half of the list.\n",
        "   \n",
        "4. **End of Search**:\n",
        "   - If the loop exits without finding the element (`low` > `high`), return `-1` indicating the element is not present in the list.\n",
        "\n",
        "5. **Example Usage**:\n",
        "   - In the example, `sorted_list` is a sorted list, and `target_element` is the element we are searching for (`12` in this case).\n",
        "   - The function returns the index `5` for `12` because it's found at that position in `sorted_list`.\n",
        "\n",
        "Key Points:\n",
        "\n",
        "- **Efficiency**: Binary search runs in `O(log n)` time complexity, where `n` is the number of elements in the list, because it halves the search space at each step.\n",
        "- **Precondition**: Binary search requires the list to be sorted for correct results."
      ],
      "metadata": {
        "id": "6MDSkpSzNXOX"
      }
    },
    {
      "cell_type": "markdown",
      "source": [
        "### **Program 89**\n",
        "The Fibonacci Sequence is computed based on the following formula:\n",
        "f(n)=0 if n=0\n",
        "f(n)=1 if n=1\n",
        "f(n)=f(n-1)+f(n-2) if n>1\n",
        "Please write a program using list comprehension to print the Fibonacci Sequence incomma separated form with a given n input by console.\n",
        "Example:\n",
        "If the following n is given as input to the program:\n",
        "8\n",
        "Then, the output of the program should be:\n",
        "0,1,1,2,3,5,8,13"
      ],
      "metadata": {
        "id": "BXb6xlImP0CT"
      }
    },
    {
      "cell_type": "code",
      "source": [
        "def fibonacci_sequence(n):\n",
        "    # Initialize the first two terms of the sequence\n",
        "    fib_sequence = [0, 1]\n",
        "\n",
        "    # Generate the Fibonacci sequence using list comprehension\n",
        "    [fib_sequence.append(fib_sequence[-1] + fib_sequence[-2]) for _ in range(2, n)]\n",
        "\n",
        "    # Return the Fibonacci sequence\n",
        "    return fib_sequence[:n]\n",
        "\n",
        "# Input: n\n",
        "n = int(input(\"Enter the number of terms for Fibonacci sequence: \"))\n",
        "\n",
        "# Generate Fibonacci sequence using list comprehension\n",
        "fibonacci = fibonacci_sequence(n)\n",
        "\n",
        "# Print the Fibonacci sequence in comma-separated form\n",
        "print(\",\".join(map(str, fibonacci)))\n"
      ],
      "metadata": {
        "id": "TjXQk1wCP44m",
        "colab": {
          "base_uri": "https://localhost:8080/"
        },
        "outputId": "39c3ef40-a6b7-43ff-8e47-e17fd95dd4e9"
      },
      "execution_count": 26,
      "outputs": [
        {
          "output_type": "stream",
          "name": "stdout",
          "text": [
            "Enter the number of terms for Fibonacci sequence: 5\n",
            "0,1,1,2,3\n"
          ]
        }
      ]
    },
    {
      "cell_type": "markdown",
      "source": [
        "Python program using list comprehension to generate and print the Fibonacci sequence up to the nth term provided by the user:\n",
        "\n",
        "\n",
        "\n",
        "Explanation:\n",
        "\n",
        "1. **`fibonacci_sequence` Function**:\n",
        "   - `fibonacci_sequence(n)` generates the Fibonacci sequence up to `n` terms using list comprehension.\n",
        "   - The sequence starts with `[0, 1]`.\n",
        "   - It then iteratively appends the sum of the last two elements (`fib_sequence[-1] + fib_sequence[-2]`) to `fib_sequence` until the desired number of terms `n` is reached.\n",
        "\n",
        "2. **List Comprehension**:\n",
        "   - `[fib_sequence.append(fib_sequence[-1] + fib_sequence[-2]) for _ in range(2, n)]`:\n",
        "     - This list comprehension is used to extend `fib_sequence` by computing the Fibonacci numbers beyond the initial `[0, 1]`.\n",
        "     - `_` is a placeholder variable as it's common to use `_` when the variable itself is not needed in the loop.\n",
        "\n",
        "3. **Input and Output**:\n",
        "   - User inputs the number `n` which determines how many Fibonacci numbers are generated.\n",
        "   - The Fibonacci sequence up to `n` terms is printed in a comma-separated format using `\",\".join(map(str, fibonacci))`.\n",
        "\n",
        "Example Usage:\n",
        "\n",
        "If the user inputs `8`, the program will output:\n",
        "```\n",
        "0,1,1,2,3,5,8,13\n",
        "```\n",
        "\n",
        "This corresponds to the Fibonacci sequence up to the 8th term, as specified.\n",
        "\n",
        "Key Points:\n",
        "\n",
        "- **Efficiency**: This approach uses list comprehension to efficiently generate the Fibonacci sequence in a concise manner.\n",
        "- **Flexibility**: The program dynamically computes the sequence based on user input, allowing for different sequence lengths."
      ],
      "metadata": {
        "id": "enp3icvMP9RH"
      }
    },
    {
      "cell_type": "markdown",
      "source": [
        "### **Program 91**\n",
        "Define a class named Shape and its subclass Square. The Square class has an initfunction which takes a length as argument. Both classes have an area function whichcan print the area of the shape where Shape's area is 0 by default."
      ],
      "metadata": {
        "id": "WmGosECjQo3e"
      }
    },
    {
      "cell_type": "code",
      "source": [
        "class Shape:\n",
        "    def __init__(self):\n",
        "        pass\n",
        "\n",
        "    def area(self):\n",
        "        return 0\n",
        "\n",
        "class Square(Shape):\n",
        "    def __init__(self, length):\n",
        "        super().__init__()\n",
        "        self.length = length\n",
        "\n",
        "    def area(self):\n",
        "        return self.length * self.length\n",
        "\n",
        "# Example usage:\n",
        "square = Square(5)\n",
        "print(\"Area of square:\", square.area())  # Output: 25\n",
        "\n",
        "shape = Shape()\n",
        "print(\"Area of shape:\", shape.area())  # Output: 0\n"
      ],
      "metadata": {
        "id": "yciFiQj-QyGU",
        "colab": {
          "base_uri": "https://localhost:8080/"
        },
        "outputId": "b01e3eb6-62a8-40c4-f1a4-85b8efb7d458"
      },
      "execution_count": 27,
      "outputs": [
        {
          "output_type": "stream",
          "name": "stdout",
          "text": [
            "Area of square: 25\n",
            "Area of shape: 0\n"
          ]
        }
      ]
    },
    {
      "cell_type": "markdown",
      "source": [
        "define the `Shape` class and its subclass `Square` in Python, including their respective `area` methods:\n",
        "\n",
        "\n",
        "\n",
        "Explanation:\n",
        "\n",
        "1. **Shape Class**:\n",
        "   - `Shape` is defined as a base class with an `__init__` method that doesn't do anything specific in this example.\n",
        "   - It has an `area` method that returns `0` by default. This method can be overridden by subclasses to provide specific implementations.\n",
        "\n",
        "2. **Square Class (Subclass of Shape)**:\n",
        "   - `Square` inherits from `Shape` using `class Square(Shape):`.\n",
        "   - It has an `__init__` method that takes a `length` parameter to initialize the side length of the square.\n",
        "   - The `area` method is overridden to calculate the area of the square using the formula `length * length`.\n",
        "\n",
        "3. **Example Usage**:\n",
        "   - An instance `square` of `Square` is created with a side length of `5`.\n",
        "   - Calling `square.area()` prints the area of the square, which is `25`.\n",
        "   - An instance `shape` of `Shape` is also created, although `Shape` itself doesn't need any parameters for initialization.\n",
        "   - Calling `shape.area()` prints the default area of `0` for a generic shape.\n",
        "\n",
        "Key Points:\n",
        "\n",
        "- **Inheritance**: `Square` inherits from `Shape`, allowing it to use and potentially override methods defined in `Shape`.\n",
        "- **Method Override**: The `area` method is overridden in `Square` to provide a specific implementation for calculating the area of a square.\n",
        "- **Default Behavior**: The `Shape` class provides a default `area` method that can be used by subclasses or overridden as needed.\n",
        "\n",
        "This structure demonstrates basic class inheritance and method overriding in Python, allowing for flexibility and customization in defining shapes and their respective areas."
      ],
      "metadata": {
        "id": "NBtP5jjfQ0IC"
      }
    },
    {
      "cell_type": "markdown",
      "source": [
        "### **Program 101**\n",
        "Create a function that computes the hamming distance between two strings."
      ],
      "metadata": {
        "id": "-xHW8qjstnKi"
      }
    },
    {
      "cell_type": "markdown",
      "source": [
        "The Hamming distance between two strings of equal length is the number of positions at which the corresponding symbols are different. Here's a Python function that computes the Hamming distance between two strings:"
      ],
      "metadata": {
        "id": "v1jFcLS8trIQ"
      }
    },
    {
      "cell_type": "code",
      "source": [
        "def hamming_distance(str1, str2):\n",
        "    if len(str1) != len(str2):\n",
        "        raise ValueError(\"Strings must be of the same length\")\n",
        "\n",
        "    return sum(el1 != el2 for el1, el2 in zip(str1, str2))\n",
        "\n",
        "# Example usage:\n",
        "str1 = \"karolin\"\n",
        "str2 = \"kathrin\"\n",
        "print(f\"Hamming distance between '{str1}' and '{str2}': {hamming_distance(str1, str2)}\")\n",
        "\n",
        "str1 = \"karolin\"\n",
        "str2 = \"kerstin\"\n",
        "print(f\"Hamming distance between '{str1}' and '{str2}': {hamming_distance(str1, str2)}\")\n"
      ],
      "metadata": {
        "id": "Bb3nYjyHtx73",
        "colab": {
          "base_uri": "https://localhost:8080/"
        },
        "outputId": "78be8cee-9d7f-4cea-d299-1603febe03f5"
      },
      "execution_count": 28,
      "outputs": [
        {
          "output_type": "stream",
          "name": "stdout",
          "text": [
            "Hamming distance between 'karolin' and 'kathrin': 3\n",
            "Hamming distance between 'karolin' and 'kerstin': 3\n"
          ]
        }
      ]
    },
    {
      "cell_type": "markdown",
      "source": [
        "Explanation:\n",
        "\n",
        "1. **Length Check**:\n",
        "   - The function first checks if the lengths of `str1` and `str2` are the same. If they are not, it raises a `ValueError` because Hamming distance is only defined for strings of equal length.\n",
        "\n",
        "2. **Calculate Hamming Distance**:\n",
        "   - `zip(str1, str2)` pairs up corresponding characters from `str1` and `str2`.\n",
        "   - The generator expression `sum(el1 != el2 for el1, el2 in zip(str1, str2))` iterates over these pairs, comparing the characters. If the characters are different (`el1 != el2`), it returns `True` (which is equivalent to `1` when summed). If they are the same, it returns `False` (equivalent to `0` when summed).\n",
        "   - The `sum` function adds up these `1`s and `0`s to give the total Hamming distance.\n",
        "\n",
        "Example Usage:\n",
        "\n",
        "- For the strings `\"karolin\"` and `\"kathrin\"`, the Hamming distance is `3` because the characters differ at three positions: the fourth, fifth, and sixth characters.\n",
        "- For the strings `\"karolin\"` and `\"kerstin\"`, the Hamming distance is `3` because the characters differ at the third, fourth, and seventh positions.\n",
        "\n",
        "This function efficiently calculates the Hamming distance and handles the error case where the strings are of different lengths."
      ],
      "metadata": {
        "id": "_ang0c-YuBZD"
      }
    },
    {
      "cell_type": "markdown",
      "source": [
        "### **Program 106**\n",
        "Write a function that moves all elements of one type to the end of the list."
      ],
      "metadata": {
        "id": "hX30xbA2uJgz"
      }
    },
    {
      "cell_type": "markdown",
      "source": [
        "Below is a Python function that moves all elements of a specified type to the end of a list while preserving the order of the other elements:\n",
        "\n",
        "```python\n",
        "def move_elements_to_end(lst, element_type):\n",
        "    # Separate elements of the specified type and the rest\n",
        "    specified_elements = [element for element in lst if isinstance(element, element_type)]\n",
        "    other_elements = [element for element in lst if not isinstance(element, element_type)]\n",
        "    \n",
        "    # Concatenate other elements followed by the specified elements\n",
        "    return other_elements + specified_elements\n",
        "\n",
        "# Example usage:\n",
        "sample_list = [1, 'a', 2, 'b', 3, 'c', 4]\n",
        "element_type = str\n",
        "result = move_elements_to_end(sample_list, element_type)\n",
        "print(result)  # Output: [1, 2, 3, 4, 'a', 'b', 'c']\n",
        "```\n",
        "\n",
        "Explanation:\n",
        "\n",
        "1. **Separate Elements by Type**:\n",
        "   - The list comprehension `[element for element in lst if isinstance(element, element_type)]` collects all elements of the specified type from the list.\n",
        "   - The list comprehension `[element for element in lst if not isinstance(element, element_type)]` collects all elements that are not of the specified type.\n",
        "\n",
        "2. **Concatenate Lists**:\n",
        "   - `other_elements + specified_elements` concatenates the list of elements that are not of the specified type with the list of elements that are of the specified type.\n",
        "\n",
        "3. **Return Result**:\n",
        "   - The concatenated list is returned as the result.\n",
        "\n",
        "Example Usage:\n",
        "\n",
        "- `sample_list` is `[1, 'a', 2, 'b', 3, 'c', 4]`.\n",
        "- `element_type` is `str`.\n",
        "- The function moves all strings to the end, resulting in `[1, 2, 3, 4, 'a', 'b', 'c']`.\n",
        "\n",
        "This approach ensures that the order of the non-specified elements is preserved, and all elements of the specified type are moved to the end of the list."
      ],
      "metadata": {
        "id": "0MpuYmcIwM64"
      }
    },
    {
      "cell_type": "markdown",
      "source": [
        "## Enumerate function\n",
        "\n",
        "The `enumerate` function in Python is a built-in function that allows you to iterate over a list (or any iterable) and have access to both the index and the value of each element in the iterable. This is particularly useful when you need to modify elements in a list or when you simply need to know the position of each element.\n",
        "\n",
        "Syntax\n",
        "\n",
        "The basic syntax of `enumerate` is:\n",
        "```python\n",
        "enumerate(iterable, start=0)\n",
        "```\n",
        "\n",
        "- `iterable`: The sequence or collection you want to iterate over.\n",
        "- `start`: The index value from which the counter is to start (default is 0).\n",
        "\n",
        "How It Works\n",
        "\n",
        "`enumerate` returns an enumerate object, which is an iterator. This object yields pairs of an index and an element from the iterable, which you can use in a for loop.\n",
        "\n",
        "Example\n",
        "\n",
        "Here’s a simple example to illustrate how `enumerate` works:\n",
        "\n",
        "```python\n",
        "fruits = ['apple', 'banana', 'cherry']\n",
        "\n",
        "# Using enumerate in a for loop\n",
        "for index, fruit in enumerate(fruits):\n",
        "    print(f\"Index {index}: {fruit}\")\n",
        "```\n",
        "\n",
        "**Output:**\n",
        "```\n",
        "Index 0: apple\n",
        "Index 1: banana\n",
        "Index 2: cherry\n",
        "```\n",
        "\n",
        "Explanation:\n",
        "\n",
        "1. **Iteration with Index**:\n",
        "   - In the above example, `enumerate(fruits)` creates an iterator that generates pairs: `(0, 'apple')`, `(1, 'banana')`, `(2, 'cherry')`.\n",
        "   - The `for` loop then unpacks these pairs into `index` and `fruit`, allowing you to access both the index and the value during each iteration.\n",
        "\n",
        "2. **Custom Starting Index**:\n",
        "   - You can specify a different starting index by passing a second argument to `enumerate`. For example:\n",
        "     ```python\n",
        "     for index, fruit in enumerate(fruits, start=1):\n",
        "         print(f\"Index {index}: {fruit}\")\n",
        "     ```\n",
        "   - This will start counting from 1 instead of the default 0.\n",
        "\n",
        "**Output:**\n",
        "```\n",
        "Index 1: apple\n",
        "Index 2: banana\n",
        "Index 3: cherry\n",
        "```\n",
        "\n",
        "Use Cases\n",
        "\n",
        "- **When modifying a list in place**: If you need to update elements in a list based on their index, `enumerate` is very handy.\n",
        "- **When creating enumerated outputs**: It’s useful for generating numbered lists, tracking positions, or debugging.\n",
        "\n",
        "Overall, `enumerate` is a powerful and convenient tool for working with iterables in Python, especially when both the index and value are needed."
      ],
      "metadata": {
        "id": "9r8z9KFQ2hqR"
      }
    },
    {
      "cell_type": "markdown",
      "source": [
        "### **Program 113**\n",
        "Given a list of numbers, create a function which returns the list but with eachelement's index in the list added to itself. This means you add 0 to the number atindex 0, add 1 to the number at index 1, etc..."
      ],
      "metadata": {
        "id": "fSk2Igv7wTAj"
      }
    },
    {
      "cell_type": "markdown",
      "source": [
        "To create a function that adds each element's index to itself in a list, you can use a combination of `enumerate` and list comprehension. The `enumerate` function provides both the index and the value as you iterate through the list, which makes it easy to add the index to the value.\n",
        "\n",
        "Here's the implementation:\n",
        "\n",
        "```python\n",
        "def add_index_to_elements(numbers):\n",
        "    # Using list comprehension with enumerate to add index to each element\n",
        "    return [num + index for index, num in enumerate(numbers)]\n",
        "\n",
        "# Example usage:\n",
        "numbers = [10, 20, 30, 40, 50]\n",
        "result = add_index_to_elements(numbers)\n",
        "print(result)  # Output: [10, 21, 32, 43, 54]\n",
        "```\n",
        "\n",
        "Explanation:\n",
        "\n",
        "1. **`enumerate(numbers)`**:\n",
        "   - `enumerate` is a built-in Python function that adds a counter to an iterable. It returns an enumerate object, which yields pairs of index and value for each item in the list.\n",
        "\n",
        "2. **List Comprehension**:\n",
        "   - The list comprehension `[num + index for index, num in enumerate(numbers)]` iterates over each index and number in the list.\n",
        "   - `index` is the position of the element in the list, and `num` is the element's value.\n",
        "   - The expression `num + index` adds the index to the element's value.\n",
        "   - The result of this operation for each element is collected into a new list, which is returned by the function.\n",
        "\n",
        "3. **Example Usage**:\n",
        "   - For the input list `[10, 20, 30, 40, 50]`, the function returns `[10, 21, 32, 43, 54]` because:\n",
        "     - Index 0: `10 + 0 = 10`\n",
        "     - Index 1: `20 + 1 = 21`\n",
        "     - Index 2: `30 + 2 = 32`\n",
        "     - Index 3: `40 + 3 = 43`\n",
        "     - Index 4: `50 + 4 = 54`\n",
        "\n",
        "This function efficiently adds the index to each element in the list, returning a new list with the modified values."
      ],
      "metadata": {
        "id": "UBJWNaIsr-ll"
      }
    },
    {
      "cell_type": "markdown",
      "source": [
        "### **Program 115**\n",
        "This Triangular Number Sequence is generated from a pattern of dots that form atriangle. The first 5 numbers of the sequence, or dots, are:\n",
        "1, 3, 6, 10, 15\n",
        "This means that the first triangle has just one dot, the second one has three dots, thethird one has 6 dots and so on.\n",
        "Write a function that gives the number of dots with its corresponding triangle numberof the sequence.\n",
        "Examples\n",
        "triangle(1) ➞ 1\n",
        "triangle(6) ➞ 21\n",
        "triangle(215) ➞ 23220"
      ],
      "metadata": {
        "id": "JFZoiCZDsBJW"
      }
    },
    {
      "cell_type": "markdown",
      "source": [
        "The Triangular Number Sequence can be represented mathematically. The nth triangular number is the sum of the first \\( n \\) natural numbers, which can be calculated using the formula:\n",
        "\n",
        "\\[\n",
        "T(n) = \\frac{n \\times (n + 1)}{2}\n",
        "\\]\n",
        "\n",
        "where \\( T(n) \\) is the nth triangular number.\n",
        "\n",
        "Here's a Python function that takes a triangle number \\( n \\) and returns the number of dots in that triangle:\n",
        "\n",
        "```python\n",
        "def triangular_number(n):\n",
        "    return (n * (n + 1)) // 2\n",
        "\n",
        "# Example usage:\n",
        "n = 5\n",
        "number_of_dots = triangular_number(n)\n",
        "print(f\"The {n}th triangular number has {number_of_dots} dots.\")\n",
        "```\n",
        "\n",
        "Explanation:\n",
        "\n",
        "1. **Triangular Number Formula**:\n",
        "   - The formula \\( \\frac{n \\times (n + 1)}{2} \\) calculates the number of dots in the nth triangular number. This formula comes from the sum of the first \\( n \\) natural numbers.\n",
        "\n",
        "2. **Function Definition**:\n",
        "   - The function `triangular_number(n)` takes an integer \\( n \\) and computes the nth triangular number using the formula.\n",
        "\n",
        "3. **Example Usage**:\n",
        "   - For \\( n = 5 \\), the function calculates the 5th triangular number:\n",
        "     \\[\n",
        "     T(5) = \\frac{5 \\times (5 + 1)}{2} = \\frac{30}{2} = 15\n",
        "     \\]\n",
        "   - Thus, the 5th triangular number has 15 dots.\n",
        "\n",
        "The function `triangular_number` can be used to find the number of dots in any triangle number in the sequence by passing the desired \\( n \\) as an argument."
      ],
      "metadata": {
        "id": "44pKwM7f1ynm"
      }
    },
    {
      "cell_type": "markdown",
      "source": [
        "## '//'  in python\n",
        "\n",
        "In Python, `//` is an operator used for **floor division**. It divides two numbers and returns the largest integer less than or equal to the quotient. This is different from regular division, which uses the `/` operator and returns a float.\n",
        "\n",
        "Examples of Floor Division\n",
        "\n",
        "1. **Basic Usage with Positive Numbers**:\n",
        "   ```python\n",
        "   result = 7 // 3\n",
        "   print(result)  # Output: 2\n",
        "   ```\n",
        "   - Here, `7 / 3` would be `2.333...`, but `7 // 3` gives `2` because `2` is the largest integer less than or equal to `2.333...`.\n",
        "\n",
        "2. **Floor Division with Negative Numbers**:\n",
        "   ```python\n",
        "   result = -7 // 3\n",
        "   print(result)  # Output: -3\n",
        "   ```\n",
        "   - In this case, `-7 / 3` would be `-2.333...`, but `-7 // 3` gives `-3` because `-3` is the largest integer less than or equal to `-2.333...`.\n",
        "\n",
        "3. **Using with Floating-Point Numbers**:\n",
        "   ```python\n",
        "   result = 7.5 // 2\n",
        "   print(result)  # Output: 3.0\n",
        "   ```\n",
        "   - Here, `7.5 / 2` is `3.75`, and `7.5 // 2` returns `3.0`, which is the largest integer less than or equal to `3.75` in float format.\n",
        "\n",
        "Why Use Floor Division?\n",
        "\n",
        "- **Avoiding Floats**: If you only need the integer part of a division and want to avoid dealing with floating-point numbers, floor division is useful.\n",
        "- **Efficiency**: It can be slightly more efficient in certain calculations where you need to ensure the result is an integer.\n",
        "\n",
        "**Note**: Floor division always returns an integer type if both operands are integers, and a float type if either operand is a float."
      ],
      "metadata": {
        "id": "1htWOYM83YLp"
      }
    },
    {
      "cell_type": "markdown",
      "source": [
        "### **Program 116**\n",
        "Create a function that takes a list of numbers between 1 and 10 (excluding onenumber) and returns the missing number."
      ],
      "metadata": {
        "id": "pqshhUoC3iN7"
      }
    },
    {
      "cell_type": "markdown",
      "source": [
        "To find the missing number in a list containing numbers between 1 and 10, we can use the fact that the sum of the numbers from 1 to 10 is a constant (55). By subtracting the sum of the numbers in the given list from 55, we can identify the missing number.\n",
        "\n",
        "Here's a Python function that implements this logic:\n",
        "\n",
        "```python\n",
        "def find_missing_number(numbers):\n",
        "    # Total sum of numbers from 1 to 10\n",
        "    total_sum = sum(range(1, 11))  # This is equivalent to 55\n",
        "    # Sum of the numbers provided in the list\n",
        "    given_sum = sum(numbers)\n",
        "    # The missing number is the difference between the total and given sums\n",
        "    missing_number = total_sum - given_sum\n",
        "    return missing_number\n",
        "\n",
        "# Example usage:\n",
        "numbers = [1, 2, 3, 4, 5, 6, 7, 8, 10]  # 9 is missing\n",
        "missing = find_missing_number(numbers)\n",
        "print(f\"The missing number is: {missing}\")  # Output: The missing number is: 9\n",
        "```\n",
        "\n",
        "Explanation:\n",
        "\n",
        "1. **Total Sum Calculation**:\n",
        "   - The sum of the numbers from 1 to 10 is calculated using `sum(range(1, 11))`. This gives 55, which is the sum of the first 10 natural numbers.\n",
        "\n",
        "2. **Given Sum Calculation**:\n",
        "   - The sum of the numbers in the provided list is calculated using `sum(numbers)`.\n",
        "\n",
        "3. **Finding the Missing Number**:\n",
        "   - The missing number is determined by subtracting the sum of the numbers in the list (`given_sum`) from the total sum of numbers from 1 to 10 (`total_sum`).\n",
        "\n",
        "4. **Example Usage**:\n",
        "   - In the example, the list `[1, 2, 3, 4, 5, 6, 7, 8, 10]` is missing the number 9. The function correctly identifies and returns 9 as the missing number.\n",
        "\n",
        "This method works efficiently because it leverages the arithmetic properties of numbers and avoids the need for complex searching or sorting algorithms."
      ],
      "metadata": {
        "id": "WwdimW3V4DOX"
      }
    },
    {
      "cell_type": "markdown",
      "source": [
        "### **Program 118**\n",
        "Create the function that takes a list of dictionaries and returns the sum of people'sbudgets."
      ],
      "metadata": {
        "id": "CoNk1Y4hpqO5"
      }
    },
    {
      "cell_type": "markdown",
      "source": [
        "To solve the problem of summing the budgets from a list of dictionaries, where each dictionary represents a person and includes a key for the budget,\n",
        "\n",
        "## A programmer would typically follow these steps:\n",
        "\n",
        "1. **Understand the Problem Requirements**\n",
        "\n",
        "- **Input**: A list of dictionaries, where each dictionary contains at least one key-value pair representing the budget of a person. The key for the budget is consistent across all dictionaries.\n",
        "- **Output**: The total sum of all the budgets.\n",
        "\n",
        "2. **Define the Function Signature**\n",
        "\n",
        "- Define a function that accepts one argument, which will be the list of dictionaries.\n",
        "\n",
        "```python\n",
        "def total_budget(people):\n",
        "    pass\n",
        "```\n",
        "\n",
        "3. **Extract and Sum the Budgets**\n",
        "\n",
        "- Iterate over the list of dictionaries.\n",
        "- For each dictionary, access the value associated with the budget key.\n",
        "- Sum these values to get the total budget.\n",
        "\n",
        "4. **Handle Possible Edge Cases**\n",
        "\n",
        "- **Empty List**: Ensure that the function handles an empty list without errors.\n",
        "- **Missing Budget Key**: Decide whether to handle cases where the budget key might be missing in some dictionaries.\n",
        "\n",
        "5. **Return the Result**\n",
        "\n",
        "- After calculating the sum, return the result.\n",
        "\n",
        "6. **Test the Function**\n",
        "\n",
        "- Test the function with various inputs, including:\n",
        "  - A list with multiple dictionaries with valid budgets.\n",
        "  - A list with only one dictionary.\n",
        "  - An empty list.\n",
        "  - Lists with varying budget values, including zero.\n",
        "\n",
        "Sample Implementation\n",
        "\n",
        "```python\n",
        "def total_budget(people):\n",
        "    # Assuming the budget key in each dictionary is 'budget'\n",
        "    total = 0\n",
        "    for person in people:\n",
        "        total += person.get('budget', 0)  # Default to 0 if 'budget' key is missing\n",
        "    return total\n",
        "```\n",
        "\n",
        "Explanation of the Implementation\n",
        "\n",
        "- **Initialization**: The `total` variable is initialized to 0, which will accumulate the sum of budgets.\n",
        "- **Iteration**: The function iterates over the list `people`. For each `person` dictionary in the list, it extracts the budget using `person.get('budget', 0)`.\n",
        "  - The `get` method is used with a default value of `0` to handle cases where the dictionary might not have a `'budget'` key, preventing potential errors.\n",
        "- **Summation**: The extracted budget values are summed up.\n",
        "- **Return**: The total budget is returned.\n",
        "\n",
        "Testing the Function\n",
        "\n",
        "To ensure the function works correctly, the programmer would run several tests:\n",
        "\n",
        "```python\n",
        "# Test cases\n",
        "people = [\n",
        "    {'name': 'Alice', 'budget': 1200},\n",
        "    {'name': 'Bob', 'budget': 1500},\n",
        "    {'name': 'Charlie', 'budget': 1000}\n",
        "]\n",
        "\n",
        "print(total_budget(people))  # Output should be 3700\n",
        "\n",
        "print(total_budget([]))  # Output should be 0 for an empty list\n",
        "\n",
        "print(total_budget([{'name': 'Dave', 'budget': 0}, {'name': 'Eve', 'budget': 800}]))  # Output should be 800\n",
        "```\n",
        "\n",
        "By following these steps, a programmer can systematically develop and verify the solution."
      ],
      "metadata": {
        "id": "Vhm4fekXpwc-"
      }
    },
    {
      "cell_type": "markdown",
      "source": [
        "### **Program 123**\n",
        "Create a function that takes in two lists and returns True if the second list follows thefirst list by one element, and False otherwise. In other words, determine if the secondlist is the first list shifted to the right by 1."
      ],
      "metadata": {
        "id": "jl1E99pHqBD-"
      }
    },
    {
      "cell_type": "code",
      "source": [
        "def simon_says(list1,list2):\n",
        "# Check if the second list is the first list shifted to the right\n",
        "   return list1[:-1] == list2[1:]"
      ],
      "metadata": {
        "id": "qZsC_h4yQY7-"
      },
      "execution_count": 29,
      "outputs": []
    },
    {
      "cell_type": "code",
      "source": [
        "simon_says([1,2], [5,1])"
      ],
      "metadata": {
        "colab": {
          "base_uri": "https://localhost:8080/"
        },
        "id": "smGNfe5FQrX2",
        "outputId": "3c4e0c6c-a5fa-465b-e3e2-ad60154e5e62"
      },
      "execution_count": 30,
      "outputs": [
        {
          "output_type": "execute_result",
          "data": {
            "text/plain": [
              "True"
            ]
          },
          "metadata": {},
          "execution_count": 30
        }
      ]
    },
    {
      "cell_type": "code",
      "source": [
        "simon_says([1,2], [5,5])"
      ],
      "metadata": {
        "colab": {
          "base_uri": "https://localhost:8080/"
        },
        "outputId": "bf020674-2010-4890-d098-4ac5c48261ae",
        "id": "qCUj32FHQ5ki"
      },
      "execution_count": 31,
      "outputs": [
        {
          "output_type": "execute_result",
          "data": {
            "text/plain": [
              "False"
            ]
          },
          "metadata": {},
          "execution_count": 31
        }
      ]
    },
    {
      "cell_type": "markdown",
      "source": [
        " we need to check if the second list is a right-shifted version of the first list by one position. This means that every element in the second list should be the same as the element in the first list that precedes it by one position, and the first element of the second list should be removed"
      ],
      "metadata": {
        "id": "VBHxrU7mRGx6"
      }
    },
    {
      "cell_type": "markdown",
      "source": [
        "### **Program 125**\n",
        "An isogram is a word that has no duplicate letters. Create a function that takes astring and returns either True or False depending on whether or not it's an \"isogram\"."
      ],
      "metadata": {
        "id": "W28BUZ_CRIYj"
      }
    },
    {
      "cell_type": "markdown",
      "source": [
        "Approach 1:\n",
        "\n",
        "To determine if a word is an isogram (a word with no duplicate letters), you can create a function that checks for duplicate characters in the given string. Here's a simple approach to solving this problem:\n",
        "\n",
        "1. **Normalize the Input**: Convert the string to a consistent case (e.g., all lowercase) to ensure that comparisons are case-insensitive.\n",
        "2. **Check for Duplicates**: Use a set to track the characters you've encountered. If a character appears more than once, it's not an isogram.\n",
        "3. **Return the Result**: If no duplicates are found, the word is an isogram; otherwise, it isn't.\n",
        "\n",
        "Here's the implementation of the function:\n",
        "\n",
        "```python\n",
        "def is_isogram(word):\n",
        "    # Convert the word to lowercase to make the function case-insensitive\n",
        "    word = word.lower()\n",
        "    # Create an empty set to track unique characters\n",
        "    seen_characters = set()\n",
        "    \n",
        "    # Iterate over each character in the word\n",
        "    for char in word:\n",
        "        # Check if the character is already in the set\n",
        "        # If the letter is already in the set, it's not an isogram\n",
        "        if char in seen_characters:\n",
        "            return False\n",
        "        # Add the character to the set\n",
        "        # Otherwise, add it to the set\n",
        "        seen_characters.add(char)\n",
        "    \n",
        "    return True\n",
        "\n",
        "# Example usage:\n",
        "print(is_isogram(\"isogram\"))  # Output: True\n",
        "print(is_isogram(\"isograms\")) # Output: False\n",
        "print(is_isogram(\"Dermatoglyphics\"))  # Output: True\n",
        "print(is_isogram(\"aba\"))  # Output: False\n",
        "print(is_isogram(\"moOse\"))  # Output: False (Case insensitive)\n",
        "```\n",
        "\n",
        "Explanation:\n",
        "\n",
        "1. **Normalization**:\n",
        "   - The function first converts the input `word` to lowercase to ensure that the function is case-insensitive. This means 'A' and 'a' are considered the same letter.\n",
        "\n",
        "2. **Set for Tracking**:\n",
        "   - A set named `seen_characters` is used to store each unique character encountered in the word. Sets are ideal for this purpose because they automatically handle duplicates and provide efficient lookup times.\n",
        "\n",
        "3. **Iteration and Check**:\n",
        "   - The function iterates over each character in the word. If a character is already in `seen_characters`, the function returns `False`, indicating that the word is not an isogram.\n",
        "   - If the character is not in the set, it is added to the set.\n",
        "\n",
        "4. **Returning the Result**:\n",
        "   - If the loop completes without finding any duplicates, the function returns `True`, indicating that the word is an isogram.\n",
        "\n",
        "This method efficiently checks for duplicates and ensures that the function works regardless of the letter case.\n",
        "\n",
        "\n",
        "-----------\n",
        "\n",
        "Approach 2: How about i sort it and check if there are two instances of the same letter?\n",
        "\n",
        "Sorting the string and then checking for consecutive duplicate characters is another effective way to determine if a word is an isogram. This method involves the following steps:\n",
        "\n",
        "1. **Normalize the Input**: Convert the string to a consistent case (e.g., all lowercase) to ensure that comparisons are case-insensitive.\n",
        "2. **Sort the Characters**: Sort the characters in the string. This brings any duplicate characters next to each other.\n",
        "3. **Check for Consecutive Duplicates**: Iterate through the sorted characters and check if any two consecutive characters are the same.\n",
        "4. **Return the Result**: If no consecutive duplicates are found, the word is an isogram; otherwise, it isn't.\n",
        "\n",
        "Here's how you can implement this approach:\n",
        "\n",
        "```python\n",
        "def is_isogram(word):\n",
        "    # Convert the word to lowercase to ensure the function is case-insensitive\n",
        "    word = word.lower()\n",
        "    # Sort the characters of the word\n",
        "    sorted_word = sorted(word)\n",
        "    \n",
        "    # Check for consecutive duplicate characters\n",
        "    for i in range(1, len(sorted_word)):\n",
        "        if sorted_word[i] == sorted_word[i - 1]:\n",
        "            return False\n",
        "    \n",
        "    return True\n",
        "\n",
        "# Example usage:\n",
        "print(is_isogram(\"isogram\"))  # Output: True\n",
        "print(is_isogram(\"isograms\")) # Output: False\n",
        "print(is_isogram(\"Dermatoglyphics\"))  # Output: True\n",
        "print(is_isogram(\"aba\"))  # Output: False\n",
        "print(is_isogram(\"moOse\"))  # Output: False (Case insensitive)\n",
        "```\n",
        "\n",
        "Explanation:\n",
        "\n",
        "1. **Normalization**:\n",
        "   - The function converts the input `word` to lowercase, ensuring the check is case-insensitive.\n",
        "\n",
        "2. **Sorting**:\n",
        "   - The sorted function returns a list of characters sorted in alphabetical order. Sorting makes it easy to check for duplicates since any duplicates will be adjacent.\n",
        "\n",
        "3. **Check for Duplicates**:\n",
        "   - The function iterates through the sorted list, starting from the second character (index 1) and checks if the current character is the same as the previous one. If any such pair is found, the function returns `False`.\n",
        "\n",
        "4. **Return the Result**:\n",
        "   - If the loop completes without finding any duplicates, the function returns `True`, indicating that the word is an isogram.\n",
        "\n",
        "This approach is simple and effective, leveraging the sorted order to make duplicate detection straightforward. However, it's worth noting that sorting has a time complexity of O(n log n), where n is the number of characters in the string, which is generally more computationally expensive than using a set with O(n) complexity. Nonetheless, for relatively small inputs (as is common with words), this difference is negligible.\n",
        "\n",
        "-----------\n",
        "\n",
        "Approach 3: How about I count the occurance of each word and check if there are multiples?\n",
        "\n",
        "Counting the occurrences of each character in the string and checking if any character appears more than once is another effective method to determine if a word is an isogram. This approach involves using a dictionary or a `collections.Counter` to count the frequency of each character.\n",
        "\n",
        "Here’s how you can implement this method:\n",
        "\n",
        "1. **Normalize the Input**: Convert the string to a consistent case to ensure case-insensitive comparison.\n",
        "2. **Count Character Occurrences**: Use a dictionary or `collections.Counter` to count the occurrences of each character.\n",
        "3. **Check for Multiples**: Iterate through the counts and check if any character appears more than once.\n",
        "4. **Return the Result**: If no character appears more than once, the word is an isogram; otherwise, it isn't.\n",
        "\n",
        "Here is an implementation using `collections.Counter`:\n",
        "\n",
        "```python\n",
        "from collections import Counter\n",
        "\n",
        "def is_isogram(word):\n",
        "    # Convert the word to lowercase to ensure the function is case-insensitive\n",
        "    word = word.lower()\n",
        "    # Count occurrences of each character\n",
        "    char_count = Counter(word)\n",
        "    \n",
        "    # Check if any character count is greater than 1\n",
        "    for count in char_count.values():\n",
        "        if count > 1:\n",
        "            return False\n",
        "    \n",
        "    return True\n",
        "\n",
        "# Example usage:\n",
        "print(is_isogram(\"isogram\"))  # Output: True\n",
        "print(is_isogram(\"isograms\")) # Output: False\n",
        "print(is_isogram(\"Dermatoglyphics\"))  # Output: True\n",
        "print(is_isogram(\"aba\"))  # Output: False\n",
        "print(is_isogram(\"moOse\"))  # Output: False (Case insensitive)\n",
        "```\n",
        "\n",
        "Explanation:\n",
        "\n",
        "1. **Normalization**:\n",
        "   - The function first converts the input `word` to lowercase, ensuring case-insensitive comparisons.\n",
        "\n",
        "2. **Counting Occurrences**:\n",
        "   - The `Counter` from the `collections` module is used to count how many times each character appears in the string. `Counter` creates a dictionary-like object where keys are characters, and values are counts of those characters.\n",
        "\n",
        "3. **Checking for Multiples**:\n",
        "   - The function iterates through the counts of each character. If any character appears more than once (`count > 1`), the function returns `False`.\n",
        "\n",
        "4. **Return the Result**:\n",
        "   - If no character appears more than once, the function returns `True`, indicating that the word is an isogram.\n",
        "\n",
        "This method is efficient and clear, especially when using `Counter`, which simplifies counting occurrences. It also has a linear time complexity of O(n), where n is the length of the string, making it efficient for larger inputs.\n",
        "\n",
        "\n",
        "---------\n",
        "\n",
        "Discussion: The best method to determine if a word is an isogram depends on factors like simplicity, performance, and the typical size of input data. Let's review the three methods:\n",
        "\n",
        "1. **Using a Set to Track Seen Characters**\n",
        "- **Pros**:\n",
        "  - **Efficiency**: O(n) time complexity, where n is the length of the string.\n",
        "  - **Simplicity**: Easy to understand and implement.\n",
        "- **Cons**:\n",
        "  - **Space Complexity**: Requires additional space proportional to the number of unique characters in the string.\n",
        "\n",
        "2. **Sorting and Checking Consecutive Characters**\n",
        "- **Pros**:\n",
        "  - **Simplicity**: Conceptually straightforward and easy to implement.\n",
        "  - **Space Efficiency**: Only requires space for the sorted string (which is a standard operation).\n",
        "- **Cons**:\n",
        "  - **Performance**: O(n log n) time complexity due to sorting, which is less efficient than the set or counting methods.\n",
        "\n",
        "3. **Counting Character Occurrences**\n",
        "- **Pros**:\n",
        "  - **Efficiency**: O(n) time complexity.\n",
        "  - **Clear Logic**: Uses counting, which is intuitive for checking duplicates.\n",
        "- **Cons**:\n",
        "  - **Space Complexity**: Requires additional space for counting, proportional to the number of unique characters.\n",
        "\n",
        "Conclusion\n",
        "\n",
        "For most practical purposes, especially with relatively short strings (like words in natural language), the differences in performance may be negligible. However, if we consider both time and space complexity:\n",
        "\n",
        "- **The Set Method** is generally the most balanced in terms of performance and simplicity. It's efficient and straightforward, making it a good default choice.\n",
        "- **The Counting Method** using `collections.Counter` is also efficient and provides clear logic for detecting duplicates. It may use more space than the set method but has the advantage of counting frequencies, which can be useful for additional insights.\n",
        "- **The Sorting Method** is typically less efficient due to the sorting step. However, it may still be a reasonable choice if the problem's constraints are known to allow it, and the simplicity of checking consecutive duplicates is preferred.\n",
        "\n",
        "**Best Overall Choice**: The **set method** is usually the best overall due to its efficiency and simplicity, especially for large datasets where sorting might become a bottleneck.\n"
      ],
      "metadata": {
        "id": "QhpBYwi9TVIf"
      }
    },
    {
      "cell_type": "markdown",
      "source": [
        "### **Program 126**\n",
        "Create a function that takes a string and returns True or False, depending on whetherthe characters are in order or not."
      ],
      "metadata": {
        "id": "GHi4bCZzUSPJ"
      }
    },
    {
      "cell_type": "markdown",
      "source": [
        "To create a function that checks whether the characters in a given string are in alphabetical order, you can follow these steps:\n",
        "\n",
        "1. **Iterate through the String**: Compare each character with the next one.\n",
        "2. **Check Order**: If any character is greater than the following one, return `False`.\n",
        "3. **Return Result**: If the loop completes without finding any characters out of order, return `True`.\n",
        "\n",
        "Here’s the implementation of this function:\n",
        "\n",
        "```python\n",
        "def are_characters_in_order(s):\n",
        "    # Iterate through the string and compare each character with the next one\n",
        "    for i in range(len(s) - 1):\n",
        "        if s[i] > s[i + 1]:\n",
        "            return False\n",
        "    return True\n",
        "\n",
        "# Example usage:\n",
        "print(are_characters_in_order(\"abc\"))  # Output: True\n",
        "print(are_characters_in_order(\"abz\"))  # Output: True\n",
        "print(are_characters_in_order(\"acb\"))  # Output: False\n",
        "print(are_characters_in_order(\"hello\")) # Output: False\n",
        "print(are_characters_in_order(\"xyz\"))  # Output: True\n",
        "```\n",
        "\n",
        "Explanation:\n",
        "\n",
        "1. **Iterate through the String**:\n",
        "   - The loop iterates over the indices of the string from `0` to `len(s) - 2`. This is to ensure that `s[i + 1]` is always a valid index.\n",
        "\n",
        "2. **Check Order**:\n",
        "   - The comparison `s[i] > s[i + 1]` checks if the current character is greater than the next one. If this condition is true at any point, the function returns `False`, indicating that the characters are not in order.\n",
        "\n",
        "3. **Return Result**:\n",
        "   - If the loop completes without finding any characters out of order, the function returns `True`.\n",
        "\n",
        "This function works for strings containing only alphabetical characters and can be easily adapted for case-insensitive checks by converting the string to lowercase before the comparison.\n",
        "\n",
        "----\n",
        "\n",
        "Approach 2:\n",
        "\n",
        "```python\n",
        "def is_in_order(s):\n",
        "  return s ==''.join(sorted(s))\n",
        "```  \n",
        "\n",
        "\n",
        "The function `is_in_order(s)` is a concise way to check if the characters in a given string `s` are in alphabetical order. Here's a breakdown of how it works:\n",
        "\n",
        "Function Explanation\n",
        "\n",
        "1. **Sorting the String**:\n",
        "   - The function uses `sorted(s)` to sort the characters of the string `s`. This function returns a list of the characters sorted in ascending (alphabetical) order.\n",
        "\n",
        "2. **Joining the Sorted Characters**:\n",
        "   - `''.join(sorted(s))` joins the sorted list of characters back into a single string. The `''.join(...)` method takes an iterable (in this case, the sorted list of characters) and concatenates them into a single string. The empty string `''` before `join` indicates that there are no additional characters (like spaces or commas) inserted between the characters during the join operation.\n",
        "\n",
        "3. **Comparison**:\n",
        "   - The function then compares the original string `s` with the newly created sorted string. If they are equal, it means the characters in `s` were already in alphabetical order, so the function returns `True`. If they are not equal, the characters in `s` were not in order, and the function returns `False`.\n",
        "\n",
        "Example\n",
        "\n",
        "Let's consider an example to illustrate:\n",
        "\n",
        "- **Input**: `\"abc\"`\n",
        "  - **Sorted**: `\"abc\"` (same as input)\n",
        "  - **Comparison**: `s == ''.join(sorted(s))` becomes `\"abc\" == \"abc\"`\n",
        "  - **Output**: `True` (characters are in order)\n",
        "\n",
        "- **Input**: `\"acb\"`\n",
        "  - **Sorted**: `\"abc\"` (characters rearranged in order)\n",
        "  - **Comparison**: `s == ''.join(sorted(s))` becomes `\"acb\" == \"abc\"`\n",
        "  - **Output**: `False` (characters are not in order)\n",
        "\n",
        "This method is straightforward and takes advantage of Python's built-in `sorted()` function to simplify the process of checking if the characters are in alphabetical order.\n"
      ],
      "metadata": {
        "id": "zESdpU58VqfI"
      }
    },
    {
      "cell_type": "markdown",
      "source": [
        "### **Program 127**\n",
        "Create a function that takes a number as an argument and returns True or Falsedepending on whether the number is symmetrical or not. A number is symmetricalwhen it is the same as its reverse."
      ],
      "metadata": {
        "id": "SFcne4noXHyM"
      }
    },
    {
      "cell_type": "markdown",
      "source": [
        "To determine if a number is symmetrical (i.e., it reads the same forwards and backwards), we can convert the number to a string, reverse the string, and then compare the reversed string to the original string. If they are the same, the number is symmetrical; otherwise, it is not.\n",
        "\n",
        "Here’s a function to accomplish this:\n",
        "\n",
        "```python\n",
        "def is_symmetrical(num):\n",
        "    # Convert the number to a string\n",
        "    num_str = str(num)\n",
        "    # Check if the original string is the same as the reversed string\n",
        "    return num_str == num_str[::-1]\n",
        "\n",
        "# Example usage:\n",
        "print(is_symmetrical(121))   # Output: True (symmetrical)\n",
        "print(is_symmetrical(12321)) # Output: True (symmetrical)\n",
        "print(is_symmetrical(123))   # Output: False (not symmetrical)\n",
        "print(is_symmetrical(1221))  # Output: True (symmetrical)\n",
        "print(is_symmetrical(10))    # Output: False (not symmetrical)\n",
        "```\n",
        "\n",
        "Explanation:\n",
        "\n",
        "1. **Convert the Number to a String**:\n",
        "   - The function first converts the number to a string using `str(num)`. This conversion allows us to easily reverse the sequence of digits.\n",
        "\n",
        "2. **Reverse the String**:\n",
        "   - The slice notation `num_str[::-1]` reverses the string. The `[::-1]` part means \"start from the end towards the first element,\" effectively reversing the string.\n",
        "\n",
        "3. **Comparison**:\n",
        "   - The function then compares the original string `num_str` with the reversed string `num_str[::-1]`. If they are equal, the number is symmetrical, and the function returns `True`. If they are not equal, the function returns `False`.\n",
        "\n",
        "This method is efficient and straightforward, leveraging string manipulation to check for symmetry. It works for any integer, regardless of the number of digits."
      ],
      "metadata": {
        "id": "DfeWTuUpXKNd"
      }
    },
    {
      "cell_type": "markdown",
      "source": [
        "**Program 128**\n",
        "Given a string of numbers separated by a comma and space, return the product ofthe numbers."
      ],
      "metadata": {
        "id": "TauhTgucXOTJ"
      }
    },
    {
      "cell_type": "markdown",
      "source": [
        "To compute the product of numbers given in a string, where the numbers are separated by commas and spaces, you can follow these steps:\n",
        "\n",
        "1. **Split the String**: Use the `split()` method to separate the numbers in the string based on the \", \" delimiter.\n",
        "2. **Convert to Integers**: Convert the split string values into integers.\n",
        "3. **Calculate the Product**: Use a loop or a function like `reduce` from the `functools` module to compute the product of the integers.\n",
        "\n",
        "Here's a Python function that implements this:\n",
        "\n",
        "```python\n",
        "from functools import reduce\n",
        "import operator\n",
        "\n",
        "def product_of_numbers(num_string):\n",
        "    # Split the string into a list of number strings\n",
        "    num_list = num_string.split(\", \")\n",
        "    # Convert the list of number strings to a list of integers\n",
        "    num_list = map(int, num_list)\n",
        "    # Calculate the product of the integers\n",
        "    product = reduce(operator.mul, num_list, 1)\n",
        "    return product\n",
        "\n",
        "# Example usage:\n",
        "print(product_of_numbers(\"1, 2, 3, 4\"))  # Output: 24\n",
        "print(product_of_numbers(\"10, 5, 2\"))    # Output: 100\n",
        "print(product_of_numbers(\"3, 6, 9\"))     # Output: 162\n",
        "print(product_of_numbers(\"0, 5, 7\"))     # Output: 0\n",
        "```\n",
        "\n",
        "Explanation:\n",
        "\n",
        "1. **Splitting the String**:\n",
        "   - The `split(\", \")` method is used to divide the string `num_string` into a list of substrings, each representing a number. The delimiter `\", \"` specifies that the split should occur at the comma followed by a space.\n",
        "\n",
        "2. **Converting to Integers**:\n",
        "   - The `map(int, num_list)` function is used to apply the `int` conversion to each element in the `num_list`. This converts the list of strings into a list of integers.\n",
        "\n",
        "3. **Calculating the Product**:\n",
        "   - The `reduce` function from the `functools` module, combined with `operator.mul`, multiplies the integers together. `reduce` applies the `operator.mul` function cumulatively to the items in `num_list`, from left to right, so as to reduce the list to a single product value. The third argument `1` is the initializer, which ensures that the product is correctly calculated even if the list is empty.\n",
        "\n",
        "This function efficiently computes the product of numbers from a comma-separated string, handling both positive and negative integers, as well as the special case where the list includes zero."
      ],
      "metadata": {
        "id": "dM-f064diaTP"
      }
    },
    {
      "cell_type": "markdown",
      "source": [
        "### **Program 131**\n",
        "Create a function that returns the mean of all digits."
      ],
      "metadata": {
        "id": "vHIsRun5oryG"
      }
    },
    {
      "cell_type": "markdown",
      "source": [
        "To create a function that calculates the mean (average) of all digits in a given number, you can follow these steps:\n",
        "\n",
        "1. **Extract the Digits**: Convert the number to a string to easily iterate through each digit.\n",
        "2. **Convert Digits to Integers**: Convert each character (digit) back to an integer.\n",
        "3. **Calculate the Sum and Count**: Sum the integers and count the number of digits.\n",
        "4. **Compute the Mean**: Divide the sum of the digits by the count of digits to get the mean.\n",
        "\n",
        "Here’s a Python function that implements this:\n",
        "\n",
        "```python\n",
        "def mean_of_digits(number):\n",
        "    # Convert the number to a string to iterate through each character\n",
        "    num_str = str(number)\n",
        "    # Calculate the sum of digits and the count of digits\n",
        "    total = sum(int(digit) for digit in num_str)\n",
        "    count = len(num_str)\n",
        "    # Compute the mean\n",
        "    mean = total / count\n",
        "    return mean\n",
        "\n",
        "# Example usage:\n",
        "print(mean_of_digits(12345))  # Output: 3.0\n",
        "print(mean_of_digits(11111))  # Output: 1.0\n",
        "print(mean_of_digits(24680))  # Output: 4.0\n",
        "print(mean_of_digits(98765))  # Output: 7.0\n",
        "```\n",
        "\n",
        "Explanation:\n",
        "\n",
        "1. **Converting the Number to a String**:\n",
        "   - The number is converted to a string with `str(number)`. This allows for easy iteration over each digit.\n",
        "\n",
        "2. **Summing the Digits**:\n",
        "   - A generator expression `int(digit) for digit in num_str` converts each character in the string back to an integer. The `sum()` function then computes the total of these integers.\n",
        "\n",
        "3. **Counting the Digits**:\n",
        "   - The `len(num_str)` function calculates the number of digits in the number.\n",
        "\n",
        "4. **Calculating the Mean**:\n",
        "   - The mean is calculated by dividing the total sum of the digits by the count of digits. This value is returned as the result.\n",
        "\n",
        "This function handles positive integers. If the input can be a negative number or include decimal points, you may need to adjust the function to handle these cases appropriately (e.g., ignoring the sign or decimal point)."
      ],
      "metadata": {
        "id": "4c7jb5MIotcQ"
      }
    },
    {
      "cell_type": "markdown",
      "source": [
        "There are alternative approaches to calculate the mean of the digits in a number. Here are a couple of different methods:\n",
        "\n",
        "Method 1: Using List Comprehension and Sum Function\n",
        "\n",
        "This method is similar to the one provided earlier but uses a list comprehension instead of a generator expression directly in `sum()`.\n",
        "\n",
        "```python\n",
        "def mean_of_digits(number):\n",
        "    # Convert the number to a string and create a list of digits\n",
        "    digits = [int(digit) for digit in str(number)]\n",
        "    # Calculate the mean\n",
        "    mean = sum(digits) / len(digits)\n",
        "    return mean\n",
        "```\n",
        "\n",
        "Method 2: Iterative Approach\n",
        "\n",
        "This method manually iterates through each digit, accumulates the sum, and counts the number of digits, without converting the number to a string.\n",
        "\n",
        "```python\n",
        "def mean_of_digits(number):\n",
        "    total = 0\n",
        "    count = 0\n",
        "    abs_number = abs(number)  # Handle negative numbers\n",
        "    \n",
        "    while abs_number > 0:\n",
        "        digit = abs_number % 10  # Extract the last digit\n",
        "        total += digit\n",
        "        count += 1\n",
        "        abs_number //= 10  # Remove the last digit\n",
        "    \n",
        "    if count == 0:  # In case the input number is 0\n",
        "        return 0\n",
        "    \n",
        "    mean = total / count\n",
        "    return mean\n",
        "```\n",
        "\n",
        "Method 3: Using `math.fsum` for High Precision\n",
        "\n",
        "This method uses `math.fsum` for precise floating-point summation, which can be beneficial for large numbers or numbers with many digits, although in this context, the difference may be negligible.\n",
        "\n",
        "```python\n",
        "import math\n",
        "\n",
        "def mean_of_digits(number):\n",
        "    digits = [int(digit) for digit in str(number)]\n",
        "    mean = math.fsum(digits) / len(digits)\n",
        "    return mean\n",
        "```\n",
        "\n",
        "Explanation of Differences:\n",
        "\n",
        "- **List Comprehension**: Provides a clear and Pythonic way to generate a list of digits. It's concise and easy to read.\n",
        "- **Iterative Approach**: Avoids converting the number to a string, directly manipulating the number itself. This is useful if you want to avoid string operations.\n",
        "- **`math.fsum`**: While similar to using `sum()`, `math.fsum` can provide better precision with floating-point arithmetic, although this is more relevant in other contexts (like handling floating-point numbers).\n",
        "\n",
        "All these methods are valid and will give the correct result. The choice of method can depend on the specific requirements of the problem, such as the need to handle large numbers, the preference for more explicit iteration, or the desire to avoid string conversion."
      ],
      "metadata": {
        "id": "C3amwtjYo1BF"
      }
    },
    {
      "cell_type": "markdown",
      "source": [
        "### **Program 133**\n",
        "Create a function that takes a list of numbers and return the number that's unique."
      ],
      "metadata": {
        "id": "--EnpE6KpZQU"
      }
    },
    {
      "cell_type": "markdown",
      "source": [
        "To find the unique number in a list where all other numbers appear at least twice, you can use a few different approaches. One straightforward method is to use a dictionary to count the occurrences of each number and then identify the number that occurs only once.\n",
        "\n",
        "Here’s a function that implements this method:\n",
        "\n",
        "```python\n",
        "def find_unique_number(numbers):\n",
        "    # Create a dictionary to count occurrences of each number\n",
        "    counts = {}\n",
        "    for num in numbers:\n",
        "        counts[num] = counts.get(num, 0) + 1\n",
        "    \n",
        "    # Find and return the number with a count of 1\n",
        "    for num, count in counts.items():\n",
        "        if count == 1:\n",
        "            return num\n",
        "\n",
        "# Example usage:\n",
        "print(find_unique_number([1, 2, 2, 3, 3]))  # Output: 1\n",
        "print(find_unique_number([4, 5, 5, 4, 7, 7, 6]))  # Output: 6\n",
        "print(find_unique_number([9, 8, 9, 8, 7]))  # Output: 7\n",
        "```\n",
        "\n",
        "Explanation:\n",
        "\n",
        "1. **Counting Occurrences**:\n",
        "   - A dictionary `counts` is used to store the frequency of each number in the list. The `get(num, 0)` method fetches the current count for `num` or returns `0` if `num` is not yet in the dictionary.\n",
        "\n",
        "2. **Identifying the Unique Number**:\n",
        "   - After populating the dictionary, the function iterates over the items in `counts` to find the number whose count is `1`. This number is unique in the list.\n",
        "\n",
        "Alternative Approach: Using `collections.Counter`\n",
        "\n",
        "You can also use the `Counter` class from the `collections` module, which is designed for counting hashable objects. Here's how to do it:\n",
        "\n",
        "```python\n",
        "from collections import Counter\n",
        "\n",
        "def find_unique_number(numbers):\n",
        "    # Use Counter to count occurrences\n",
        "    counts = Counter(numbers)\n",
        "    # Find and return the number with a count of 1\n",
        "    for num, count in counts.items():\n",
        "        if count == 1:\n",
        "            return num\n",
        "\n",
        "# Example usage:\n",
        "print(find_unique_number([1, 2, 2, 3, 3]))  # Output: 1\n",
        "print(find_unique_number([4, 5, 5, 4, 7, 7, 6]))  # Output: 6\n",
        "print(find_unique_number([9, 8, 9, 8, 7]))  # Output: 7\n",
        "```\n",
        "\n",
        "Both methods are efficient for this problem and will correctly identify the unique number in the list."
      ],
      "metadata": {
        "id": "wV3llXxdpajy"
      }
    },
    {
      "cell_type": "markdown",
      "source": [
        "Using a set can be an efficient way to find a unique number in a list when all other numbers appear at least twice. Sets in Python are collections of unique elements, and you can leverage this property to identify the unique number.\n",
        "\n",
        "Method Using Set and Sum\n",
        "\n",
        "One efficient approach is based on the mathematical property that the sum of unique elements in a set, when doubled and subtracted from the sum of the list, will yield the unique number. This works because the set will contain each number only once, so summing the set and subtracting it from the sum of the list helps isolate the unique number.\n",
        "\n",
        "Here's the implementation:\n",
        "\n",
        "```python\n",
        "def find_unique_number(numbers):\n",
        "    # Create a set of unique numbers\n",
        "    unique_numbers = set(numbers)\n",
        "    # Calculate the sum of all numbers in the list\n",
        "    sum_all_numbers = sum(numbers)\n",
        "    # Calculate the sum of unique numbers\n",
        "    sum_unique_numbers = sum(unique_numbers)\n",
        "    # The unique number can be found using the formula:\n",
        "    # 2 * sum_unique_numbers - sum_all_numbers\n",
        "    unique_number = 2 * sum_unique_numbers - sum_all_numbers\n",
        "    return unique_number\n",
        "\n",
        "# Example usage:\n",
        "print(find_unique_number([1, 2, 2, 3, 3]))  # Output: 1\n",
        "print(find_unique_number([4, 5, 5, 4, 7, 7, 6]))  # Output: 6\n",
        "print(find_unique_number([9, 8, 9, 8, 7]))  # Output: 7\n",
        "```\n",
        "\n",
        "Explanation:\n",
        "\n",
        "1. **Set of Unique Numbers**:\n",
        "   - `set(numbers)` creates a set containing all unique numbers from the list.\n",
        "\n",
        "2. **Sum Calculations**:\n",
        "   - `sum(numbers)` gives the sum of all numbers in the list, counting duplicates.\n",
        "   - `sum(unique_numbers)` gives the sum of the unique numbers (without duplicates).\n",
        "\n",
        "3. **Finding the Unique Number**:\n",
        "   - The formula `2 * sum_unique_numbers - sum_all_numbers` works because `sum_all_numbers` includes each non-unique number twice (since they are duplicated in the list). Subtracting the sum of all numbers from twice the sum of the unique numbers isolates the unique number.\n",
        "\n",
        "Efficiency:\n",
        "\n",
        "- **Time Complexity**: This method runs in O(n) time, where n is the number of elements in the list. The set creation, summation, and the arithmetic operations all take linear time.\n",
        "- **Space Complexity**: The space complexity is O(u), where u is the number of unique elements. This is because the set stores each unique element.\n",
        "\n",
        "Using a set is efficient in this case and provides a clean solution to find the unique number in the list."
      ],
      "metadata": {
        "id": "Urw6pgZep2uO"
      }
    },
    {
      "cell_type": "markdown",
      "source": [
        "### **Program 134**\n",
        "Your task is to create a Circle constructor that creates a circle with a radius providedby an argument. The circles constructed must have two getters getArea() (PIr^2) andgetPerimeter() (2PI*r) which give both respective areas and perimeter(circumference)."
      ],
      "metadata": {
        "id": "q0i0RkCdtd0D"
      }
    },
    {
      "cell_type": "markdown",
      "source": [
        "To create a `Circle` class in Python that encapsulates the properties of a circle, we need to include:\n",
        "\n",
        "1. A constructor to initialize the circle with a given radius.\n",
        "2. Getter methods `getArea()` and `getPerimeter()` to calculate and return the area and perimeter (circumference) of the circle, respectively.\n",
        "\n",
        "Here's the implementation:\n",
        "\n",
        "```python\n",
        "import math\n",
        "\n",
        "class Circle:\n",
        "    def __init__(self, radius):\n",
        "        self.radius = radius\n",
        "\n",
        "    def getArea(self):\n",
        "        return math.pi * (self.radius ** 2)\n",
        "\n",
        "    def getPerimeter(self):\n",
        "        return 2 * math.pi * self.radius\n",
        "\n",
        "# Example usage:\n",
        "circle = Circle(5)\n",
        "print(\"Area:\", circle.getArea())          # Output: Area: 78.53981633974483\n",
        "print(\"Perimeter:\", circle.getPerimeter())  # Output: Perimeter: 31.41592653589793\n",
        "```\n",
        "Explanation:\n",
        "\n",
        "1. **Importing `math` Module**:\n",
        "   - The `math` module is imported to use `math.pi` for the value of π (pi).\n",
        "\n",
        "2. **Circle Class**:\n",
        "   - `__init__(self, radius)`: This is the constructor method that initializes an instance of the `Circle` class with a specified `radius`.\n",
        "   - `getArea(self)`: This method calculates the area of the circle using the formula \\( \\text{Area} = \\pi \\times r^2 \\), where \\( r \\) is the radius.\n",
        "   - `getPerimeter(self)`: This method calculates the perimeter (circumference) of the circle using the formula \\( \\text{Perimeter} = 2 \\times \\pi \\times r \\), where \\( r \\) is the radius.\n",
        "\n",
        "Usage:\n",
        "\n",
        "- The `Circle` class is instantiated with a radius. The `getArea()` and `getPerimeter()` methods can be called on this instance to retrieve the circle's area and perimeter.\n",
        "\n",
        "This class design provides a simple and clean way to encapsulate the properties and behaviors of a circle, allowing users to easily compute the area and perimeter based on the radius."
      ],
      "metadata": {
        "id": "wMc80ghvtfUU"
      }
    },
    {
      "cell_type": "markdown",
      "source": [
        "### **Program 135**\n",
        "Create a function that takes a list of strings and return a list, sorted from shortest tolongest."
      ],
      "metadata": {
        "id": "80Pc6ldcvNjX"
      }
    },
    {
      "cell_type": "markdown",
      "source": [
        "To create a function that sorts a list of strings by their length, from shortest to longest, you can use Python's built-in `sorted()` function or the `sort()` method of lists. Both methods allow you to specify a custom key function that determines the sorting order.\n",
        "\n",
        "Here’s a function that accomplishes this:\n",
        "\n",
        "```python\n",
        "def sort_by_length(strings):\n",
        "    # Use the sorted function with the key parameter set to the length of each string\n",
        "    return sorted(strings, key=len)\n",
        "\n",
        "# Example usage:\n",
        "strings = [\"apple\", \"kiwi\", \"banana\", \"cherry\", \"blueberry\"]\n",
        "sorted_strings = sort_by_length(strings)\n",
        "print(sorted_strings)  # Output: ['kiwi', 'apple', 'banana', 'cherry', 'blueberry']\n",
        "```\n",
        "\n",
        "Explanation:\n",
        "\n",
        "1. **`sorted()` Function**:\n",
        "   - The `sorted()` function returns a new list that is sorted based on the specified key function. It does not modify the original list.\n",
        "   - The `key` parameter is set to `len`, which is a built-in function that returns the length of a string. This means that `sorted()` will sort the list based on the length of each string.\n",
        "\n",
        "2. **Result**:\n",
        "   - The resulting list `sorted_strings` contains the original strings sorted by length from shortest to longest.\n",
        "\n",
        "Using `sort()` Method\n",
        "\n",
        "Alternatively, you can use the `sort()` method of the list, which sorts the list in place:\n",
        "\n",
        "```python\n",
        "def sort_by_length(strings):\n",
        "    # Sort the list in place using the sort method\n",
        "    strings.sort(key=len)\n",
        "    return strings\n",
        "\n",
        "# Example usage:\n",
        "strings = [\"apple\", \"kiwi\", \"banana\", \"cherry\", \"blueberry\"]\n",
        "sort_by_length(strings)\n",
        "print(strings)  # Output: ['kiwi', 'apple', 'banana', 'cherry', 'blueberry']\n",
        "```\n",
        "\n",
        "Considerations:\n",
        "\n",
        "- **`sorted()` vs `sort()`**: The `sorted()` function returns a new list, preserving the original list, while the `sort()` method modifies the list in place. Use `sorted()` if you want to keep the original list unchanged, and `sort()` if you don't need the original list.\n",
        "- **Key Function**: The `key` parameter can be any function that takes a single argument and returns a value to use for sorting. In this case, `len` is used because it provides the length of the strings."
      ],
      "metadata": {
        "id": "Dpzt3DCjvQjn"
      }
    },
    {
      "cell_type": "markdown",
      "source": [
        "### **Program 136**\n",
        "Create a function that validates whether three given integers form a Pythagoreantriplet. The sum of the squares of the two smallest integers must equal the square ofthe largest number to be validated."
      ],
      "metadata": {
        "id": "xsMLDwr6wFgc"
      }
    },
    {
      "cell_type": "markdown",
      "source": [
        "To check if three given integers form a Pythagorean triplet, the sum of the squares of the two smaller integers must equal the square of the largest integer. A Pythagorean triplet consists of three integers \\(a\\), \\(b\\), and \\(c\\) such that \\(a^2 + b^2 = c^2\\).\n",
        "\n",
        "Here’s how you can implement this check in a Python function:\n",
        "\n",
        "```python\n",
        "def is_pythagorean_triplet(a, b, c):\n",
        "    # First, sort the integers to ensure the largest is always in c\n",
        "    a, b, c = sorted([a, b, c])\n",
        "    # Check if the sum of the squares of the two smallest equals the square of the largest\n",
        "    return a**2 + b**2 == c**2\n",
        "\n",
        "# Example usage:\n",
        "print(is_pythagorean_triplet(3, 4, 5))  # Output: True\n",
        "print(is_pythagorean_triplet(5, 12, 13))  # Output: True\n",
        "print(is_pythagorean_triplet(1, 2, 3))  # Output: False\n",
        "```\n",
        "\n",
        "Explanation:\n",
        "\n",
        "1. **Sorting**:\n",
        "   - The integers `a`, `b`, and `c` are sorted so that `c` is always the largest number. This sorting ensures that we always check the sum of the squares of the two smaller numbers against the square of the largest number.\n",
        "\n",
        "2. **Pythagorean Triplet Check**:\n",
        "   - The function checks if the sum of the squares of `a` and `b` is equal to the square of `c`. This condition is true for Pythagorean triplets.\n",
        "\n",
        "Example:\n",
        "\n",
        "- For the input `(3, 4, 5)`, the sorted numbers are `(3, 4, 5)`. The check \\(3^2 + 4^2 = 9 + 16 = 25\\) equals \\(5^2 = 25\\), so the function returns `True`.\n",
        "- For the input `(1, 2, 3)`, the sorted numbers are `(1, 2, 3)`. The check \\(1^2 + 2^2 = 1 + 4 = 5\\) does not equal \\(3^2 = 9\\), so the function returns `False`.\n",
        "\n",
        "This function accurately identifies whether three integers can form a right triangle, following the Pythagorean theorem."
      ],
      "metadata": {
        "id": "TIERtg_VwNA-"
      }
    },
    {
      "cell_type": "markdown",
      "source": [
        "### **Program 137**\n",
        "Create a function that takes three integer arguments (a, b, c) and returns the amountof integers which are of equal value."
      ],
      "metadata": {
        "id": "6Of3qyzpwHpO"
      }
    },
    {
      "cell_type": "markdown",
      "source": [
        "To create a function that takes three integer arguments and returns the number of integers that are equal, we need to consider all possible cases of equality among the three integers. The function should return:\n",
        "\n",
        "1. `3` if all three integers are the same.\n",
        "2. `2` if exactly two of the integers are the same.\n",
        "3. `0` if none of the integers are the same.\n",
        "\n",
        "Here's how you can implement this function:\n",
        "\n",
        "```python\n",
        "def count_equal(a, b, c):\n",
        "    if a == b == c:\n",
        "        return 3  # All three integers are the same\n",
        "    elif a == b or b == c or a == c:\n",
        "        return 2  # Exactly two integers are the same\n",
        "    else:\n",
        "        return 0  # All integers are different\n",
        "\n",
        "# Example usage:\n",
        "print(count_equal(1, 1, 1))  # Output: 3\n",
        "print(count_equal(2, 2, 3))  # Output: 2\n",
        "print(count_equal(4, 5, 6))  # Output: 0\n",
        "```\n",
        "\n",
        "Explanation:\n",
        "\n",
        "1. **All Three Equal (`a == b == c`)**:\n",
        "   - If all three integers are equal, the function returns `3`.\n",
        "\n",
        "2. **Exactly Two Equal (`a == b`, `b == c`, `a == c`)**:\n",
        "   - If exactly two of the integers are equal, the function returns `2`. This is checked by three conditions: `a == b`, `b == c`, and `a == c`. These conditions ensure that two and only two numbers are equal.\n",
        "\n",
        "3. **None Equal**:\n",
        "   - If none of the above conditions are met, it means all three integers are different, so the function returns `0`.\n",
        "\n",
        "This approach covers all the possible scenarios for comparing three integers and determining how many are equal."
      ],
      "metadata": {
        "id": "QiN66XHXwTFw"
      }
    },
    {
      "cell_type": "markdown",
      "source": [
        "### **Program 138**\n",
        "Write a function that converts a dictionary into a list of keys-values tuples."
      ],
      "metadata": {
        "id": "Nkpf1u8jxAhb"
      }
    },
    {
      "cell_type": "markdown",
      "source": [
        "To convert a dictionary into a list of key-value tuples, you can use the `items()` method of the dictionary, which returns a view object containing the key-value pairs as tuples. You can then convert this view object into a list.\n",
        "\n",
        "Here's how you can implement this:\n",
        "\n",
        "```python\n",
        "def dict_to_tuples(d):\n",
        "    # Convert dictionary items to a list of tuples\n",
        "    return list(d.items())\n",
        "\n",
        "# Example usage:\n",
        "example_dict = {'a': 1, 'b': 2, 'c': 3}\n",
        "result = dict_to_tuples(example_dict)\n",
        "print(result)  # Output: [('a', 1), ('b', 2), ('c', 3)]\n",
        "```\n",
        "\n",
        "Explanation:\n",
        "\n",
        "1. **`d.items()`**:\n",
        "   - The `items()` method of a dictionary returns a view object that displays a list of a dictionary's key-value tuple pairs. In Python 3, this view object can be converted into a list.\n",
        "\n",
        "2. **`list()`**:\n",
        "   - The `list()` function is used to convert the view object returned by `items()` into an actual list. This list contains tuples where each tuple is a pair `(key, value)` from the dictionary.\n",
        "\n",
        "Example:\n",
        "\n",
        "- Given a dictionary `example_dict = {'a': 1, 'b': 2, 'c': 3}`, calling `dict_to_tuples(example_dict)` will output `[('a', 1), ('b', 2), ('c', 3)]`.\n",
        "\n",
        "This method preserves the order of elements in the dictionary, which is particularly useful if the dictionary is ordered, as in Python 3.7 and later versions, where insertion order is guaranteed to be preserved."
      ],
      "metadata": {
        "id": "hEzoP8o4xER3"
      }
    },
    {
      "cell_type": "markdown",
      "source": [
        "### **Program 139**\n",
        "Write a function that creates a dictionary with each (key, value) pair being the (lowercase, upper case) versions of a letter, respectively."
      ],
      "metadata": {
        "id": "5DK_cX_x3y8F"
      }
    },
    {
      "cell_type": "markdown",
      "source": [
        "To create a dictionary where each key is a lowercase letter and the corresponding value is the uppercase version of that letter, you can use the `string` module in Python, which provides convenient string constants for alphabetic characters.\n",
        "\n",
        "Here’s how you can implement this function:\n",
        "\n",
        "```python\n",
        "import string\n",
        "\n",
        "def create_letter_case_dict():\n",
        "    # Use a dictionary comprehension to create the (lowercase, uppercase) pairs\n",
        "    return {char: char.upper() for char in string.ascii_lowercase}\n",
        "\n",
        "# Example usage:\n",
        "letter_case_dict = create_letter_case_dict()\n",
        "print(letter_case_dict)\n",
        "```\n",
        "\n",
        "Explanation:\n",
        "\n",
        "1. **Importing the `string` Module**:\n",
        "   - The `string` module is imported to use `string.ascii_lowercase`, which is a string containing all lowercase letters in the English alphabet ('a' to 'z').\n",
        "\n",
        "2. **Dictionary Comprehension**:\n",
        "   - The dictionary comprehension `{char: char.upper() for char in string.ascii_lowercase}` iterates over each lowercase letter `char` in `string.ascii_lowercase`.\n",
        "   - For each `char`, it adds an entry to the dictionary where the key is the lowercase letter and the value is `char.upper()`, which converts the character to its uppercase form.\n",
        "\n",
        "3. **Output**:\n",
        "   - The resulting dictionary has lowercase letters as keys and their corresponding uppercase letters as values. For example, the key 'a' has the value 'A', the key 'b' has the value 'B', and so on.\n",
        "\n",
        "Example Output:\n",
        "The output of `create_letter_case_dict()` would be:\n",
        "\n",
        "```python\n",
        "{'a': 'A', 'b': 'B', 'c': 'C', 'd': 'D', 'e': 'E', 'f': 'F', 'g': 'G', 'h': 'H', 'i': 'I', 'j': 'J', 'k': 'K', 'l': 'L', 'm': 'M', 'n': 'N', 'o': 'O', 'p': 'P', 'q': 'Q', 'r': 'R', 's': 'S', 't': 'T', 'u': 'U', 'v': 'V', 'w': 'W', 'x': 'X', 'y': 'Y', 'z': 'Z'}\n",
        "```\n",
        "\n",
        "This function efficiently creates the desired dictionary with a simple and readable approach."
      ],
      "metadata": {
        "id": "4g8EON_g4AjY"
      }
    },
    {
      "cell_type": "markdown",
      "source": [
        "To create a dictionary where each key is a lowercase letter and the corresponding value is its uppercase version, based on a list of lowercase letters, you can follow these steps:\n",
        "\n",
        "1. Iterate over the given list of lowercase letters.\n",
        "2. For each letter, create a dictionary entry where the key is the lowercase letter and the value is its uppercase version.\n",
        "\n",
        "Here's how you can implement this:\n",
        "\n",
        "```python\n",
        "def mapping(letters):\n",
        "    # Create a dictionary with each letter mapped to its uppercase version\n",
        "    return {letter: letter.upper() for letter in letters}\n",
        "\n",
        "# Example usage:\n",
        "print(mapping([\"p\", \"s\"]))  # Output: {'p': 'P', 's': 'S'}\n",
        "print(mapping([\"a\", \"b\", \"c\"]))  # Output: {'a': 'A', 'b': 'B', 'c': 'C'}\n",
        "```\n",
        "\n",
        "Explanation:\n",
        "\n",
        "1. **Dictionary Comprehension**:\n",
        "   - `{letter: letter.upper() for letter in letters}` is a dictionary comprehension that iterates over each `letter` in the provided `letters` list.\n",
        "   - For each `letter`, it creates a key-value pair where the key is the lowercase `letter` and the value is `letter.upper()`, which converts the letter to its uppercase form.\n",
        "\n",
        "2. **Function `mapping`**:\n",
        "   - The function `mapping` takes a list of lowercase letters and returns a dictionary where each letter is mapped to its uppercase version.\n",
        "\n",
        "Example Outputs:\n",
        "\n",
        "- For `mapping([\"p\", \"s\"])`, the output is `{'p': 'P', 's': 'S'}`.\n",
        "- For `mapping([\"a\", \"b\", \"c\"])`, the output is `{'a': 'A', 'b': 'B', 'c': 'C'}`.\n",
        "\n",
        "This approach is concise and leverages Python's dictionary comprehension to create the desired mapping efficiently."
      ],
      "metadata": {
        "id": "d-ifw8Sr4ENs"
      }
    },
    {
      "cell_type": "markdown",
      "source": [
        "### **Program 140**\n",
        "Write a function, that replaces all vowels in a string with a specified vowel."
      ],
      "metadata": {
        "id": "eJfhyLLr48lk"
      }
    },
    {
      "cell_type": "markdown",
      "source": [
        "To create a function that replaces all vowels in a string with a specified vowel, you can follow these steps:\n",
        "\n",
        "1. Define a list of vowels to check for.\n",
        "2. Iterate through the string and replace each vowel with the specified vowel.\n",
        "3. Construct and return the modified string.\n",
        "\n",
        "Here’s how you can implement this:\n",
        "\n",
        "```python\n",
        "def replace_vowels(input_string, replacement_vowel):\n",
        "    # Define the vowels to be replaced\n",
        "    vowels = \"aeiouAEIOU\"\n",
        "    \n",
        "    # Replace each vowel in the input_string with the replacement_vowel\n",
        "    result = ''.join(replacement_vowel if char in vowels else char for char in input_string)\n",
        "    \n",
        "    return result\n",
        "\n",
        "# Example usage:\n",
        "print(replace_vowels(\"hello world\", \"i\"))  # Output: \"hilli wirld\"\n",
        "print(replace_vowels(\"This is a test\", \"o\"))  # Output: \"Thos os o tost\"\n",
        "```\n",
        "\n",
        "Explanation:\n",
        "\n",
        "1. **Vowels Definition**:\n",
        "   - The string `vowels` contains both lowercase and uppercase vowels (`\"aeiouAEIOU\"`), ensuring that the function can handle vowels in any case.\n",
        "\n",
        "2. **String Replacement**:\n",
        "   - `''.join(replacement_vowel if char in vowels else char for char in input_string)` uses a generator expression to iterate through each character in the `input_string`.\n",
        "   - For each character, it checks if the character is a vowel (`char in vowels`). If it is, it replaces it with `replacement_vowel`. Otherwise, it keeps the character unchanged.\n",
        "   - `''.join()` concatenates the modified characters into a new string.\n",
        "\n",
        "3. **Result**:\n",
        "   - The resulting string with all vowels replaced is returned.\n",
        "\n",
        "Example Outputs:\n",
        "\n",
        "- For `replace_vowels(\"hello world\", \"i\")`, the vowels 'e' and 'o' are replaced with 'i', resulting in `\"hilli wirld\"`.\n",
        "- For `replace_vowels(\"This is a test\", \"o\")`, the vowels 'i' and 'a' are replaced with 'o', resulting in `\"Thos os o tost\"`.\n",
        "\n",
        "This approach ensures that all vowels in the string are replaced with the specified vowel while preserving the non-vowel characters."
      ],
      "metadata": {
        "id": "_JD7kROu5EvL"
      }
    },
    {
      "cell_type": "markdown",
      "source": [
        "**Program 140**\n",
        "Create a function that takes a string as input and capitalizes a letter if its ASCII codeis even and returns its lower case version if its ASCII code is odd."
      ],
      "metadata": {
        "id": "t1usUtIE5H_6"
      }
    },
    {
      "cell_type": "markdown",
      "source": [
        "To create a function that capitalizes a letter if its ASCII code is even and returns its lowercase version if its ASCII code is odd, you can use the following approach:\n",
        "\n",
        "1. **Check ASCII Code**: Use Python’s `ord()` function to get the ASCII code of each character.\n",
        "2. **Apply Transformation**: Based on whether the ASCII code is even or odd, transform the character to uppercase or lowercase.\n",
        "3. **Build Result String**: Construct the result string with the transformed characters.\n",
        "\n",
        "Here’s the implementation of the function:\n",
        "\n",
        "```python\n",
        "def transform_string(s):\n",
        "    # Create a new string by transforming each character based on its ASCII code\n",
        "    result = ''.join(\n",
        "        char.upper() if ord(char) % 2 == 0 else char.lower()\n",
        "        for char in s\n",
        "    )\n",
        "    return result\n",
        "\n",
        "# Example usage:\n",
        "input_string = \"Hello World\"\n",
        "transformed_string = transform_string(input_string)\n",
        "print(transformed_string)  # Output: 'HElLo wOrLd'\n",
        "```\n",
        "\n",
        "Explanation:\n",
        "\n",
        "1. **Transform Each Character**:\n",
        "   - `ord(char)` returns the ASCII code of `char`.\n",
        "   - `ord(char) % 2 == 0` checks if the ASCII code is even.\n",
        "   - `char.upper()` converts the character to uppercase if the ASCII code is even.\n",
        "   - `char.lower()` converts the character to lowercase if the ASCII code is odd.\n",
        "\n",
        "2. **Generator Expression**:\n",
        "   - `''.join(...)` concatenates the transformed characters into a new string.\n",
        "\n",
        "3. **Function `transform_string`**:\n",
        "   - The function `transform_string` processes each character in the input string `s` according to the ASCII code criteria and returns the transformed string.\n",
        "\n",
        "Example Outputs:\n",
        "\n",
        "- For `transform_string(\"Hello World\")`, the output is `'HElLo wOrLd'`, where characters with even ASCII codes are capitalized and those with odd ASCII codes are converted to lowercase.\n",
        "\n",
        "This function ensures that each character is correctly transformed based on its ASCII code, producing the desired result."
      ],
      "metadata": {
        "id": "pt2Fn-UH6djo"
      }
    }
  ],
  "metadata": {
    "kernelspec": {
      "display_name": "Python 3",
      "language": "python",
      "name": "python3"
    },
    "language_info": {
      "codemirror_mode": {
        "name": "ipython",
        "version": 3
      },
      "file_extension": ".py",
      "mimetype": "text/x-python",
      "name": "python",
      "nbconvert_exporter": "python",
      "pygments_lexer": "ipython3",
      "version": "3.6.3"
    },
    "colab": {
      "provenance": []
    }
  },
  "nbformat": 4,
  "nbformat_minor": 0
}